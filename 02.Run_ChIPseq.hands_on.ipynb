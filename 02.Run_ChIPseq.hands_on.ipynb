{
 "cells": [
  {
   "cell_type": "markdown",
   "metadata": {},
   "source": [
    "## Overview: <a class=\"anchor\" id=\"top\"></a>\n",
    "* [Interactive ChIP-seq analysis](#01)\n",
    "    * [Our dataset](#01.1)\n",
    "    * [Set up](#01.2)\n",
    "    * [Tag profile plot](#01.3)\n",
    "    * [Annotate peaks](#01.4)\n",
    "    * [Functional enrichment analysis](#01.5)\n",
    "    * [Overlap of peaks](#01.6)\n",
    "* [Linking RNA-seq results with ChIP-seq results](#02)\n",
    "    * [Viewing integrated data in IGV](#02.1)\n",
    "    * [More advanced integration](#02.2)\n",
    "* [Other useful tools](#03)\n",
    "\n",
    "License: LGPLv3"
   ]
  },
  {
   "cell_type": "markdown",
   "metadata": {},
   "source": [
    "# Interactive ChIP-seq analysis<a class=\"anchor\" id=\"01\"></a> <small>[[top](#top)]</small>\n",
    "\n",
    "We will go through some basic annotation of your peaks and some visualization using the \n",
    "[ChIPSeeker](http://bioconductor.org/packages/release/bioc/html/ChIPseeker.html) \n",
    "BioconductoR package.\n",
    "\n",
    "> G Yu, LG Wang, QY He.\n",
    "ChIPseeker: an R/Bioconductor package for ChIP peak annotation, comparison and visualization.\n",
    "Bioinformatics 2015, 31(14):2382-2383.\n",
    "\n",
    "## Our dataset<a class=\"anchor\" id=\"01.1\"></a> <small>[[top](#top)]</small>\n",
    "\n",
    "* Same publication as the RNA-Seq set ([link](https://www.ncbi.nlm.nih.gov/pubmed/25499759))\n",
    "* Two factors:\n",
    "    * Ab1 factor for PRDM11 gene\n",
    "    * RNAII factor for RNA polymerase\n",
    "* Two controls:\n",
    "    * Input sample\n",
    "    * IgG sample\n",
    "* We will use pre-analyzed data due to time limitations\n",
    "* More examples are available in the extended notebooks\n",
    "\n",
    "## Set up<a class=\"anchor\" id=\"01.2\"></a> <small>[[top](#top)]</small>\n",
    "\n",
    "First, we will load the necessary R libraries and peak files in R."
   ]
  },
  {
   "cell_type": "code",
   "execution_count": null,
   "metadata": {
    "collapsed": false
   },
   "outputs": [],
   "source": [
    "# Load the libraries\n",
    "# These will need to be installed already\n",
    "suppressMessages(require(ChIPseeker))\n",
    "suppressMessages(require(TxDb.Hsapiens.UCSC.hg38.knownGene))\n",
    "txdb <- TxDb.Hsapiens.UCSC.hg38.knownGene\n",
    "\n",
    "# Set up the input files. I hardcoded the directory path\n",
    "# that contains all the narrowPeak files. We then create\n",
    "# a list where each item is the treatment group and the path\n",
    "# to the narrowPeak file\n",
    "idir <- \"/home/ubuntu/data/chipseq/fullset/peaks\"\n",
    "files <- list(\"Ab1\"=file.path(idir, \"Ab1.filtered.intersected.narrowPeak\"),\n",
    "              \"RNAPII\"=file.path(idir, \"RNAPII.filtered.intersected.narrowPeak\"))\n",
    "\n",
    "# Look at the files list\n",
    "print(\"Files list:\")\n",
    "files\n",
    "\n",
    "# Now, we use the readPeakFile() function that is provided by\n",
    "# the ChIPseeker package. We use the lapply function so that we\n",
    "# can easily loop over the files list and load in the peaks.\n",
    "peaks <- lapply(files, function(x) readPeakFile(x, header=FALSE))\n",
    "\n",
    "# There should be 2 elements in the list that are identified by the\n",
    "# treatment name.\n",
    "print(\"Peak list names:\")\n",
    "names(peaks)\n",
    "\n",
    "# We can peek at one of the treatment's peak data\n",
    "print(\"Peak data from Ab1:\")\n",
    "peaks$Ab1"
   ]
  },
  {
   "cell_type": "markdown",
   "metadata": {},
   "source": [
    "## Tag profile plot<a class=\"anchor\" id=\"01.3\"></a> <small>[[top](#top)]</small> \n",
    "\n",
    "* Visualize profile of ChIP peaks binding to Transcription Start Site (TSS) regions\n",
    "* To do this, a `tagMatrix` needs to be computed. This can take several minutes, so we will load a previously generated one due to time contraints\n",
    "* Use the `plotAvgProf` function to do the plot\n",
    "* It is possible to do bootstrapping to get confidence intervals (not shown)"
   ]
  },
  {
   "cell_type": "code",
   "execution_count": null,
   "metadata": {
    "collapsed": false
   },
   "outputs": [],
   "source": [
    "## We first need to create a tagMatrix which requires us to provide the\n",
    "## locations of the promoters. Fortunately, we can use the getPromoters function\n",
    "## with the TxDb object\n",
    "#\n",
    "# promoter <- getPromoters(TxDb=txdb, upstream=3000, downstream=3000)\n",
    "#\n",
    "## Next, we can make the tagMatrix using the lapply function and our peak list\n",
    "# tagMatrix <- lapply(peaks, function(x) getTagMatrix(x, windows=promoter))\n",
    "\n",
    "# Since we already pre-computed the tag matrix, we will load it here\n",
    "load(file.path(idir, \"Rdata\", \"tagMatrix.Rdata\"))\n",
    "\n",
    "# Plot the average profile\n",
    "plotAvgProf(tagMatrix, xlim=c(-3000, 3000), \n",
    "            xlab=\"Genomic Region (5'->3')\", \n",
    "            ylab=\"Count Frequency\")"
   ]
  },
  {
   "cell_type": "markdown",
   "metadata": {},
   "source": [
    "## Annotate peaks<a class=\"anchor\" id=\"01.4\"></a> <small>[[top](#top)]</small>\n",
    "\n",
    "* Lookup the gene with the closest TSS to our peaks\n",
    "* Get genomic feature where our peak is located (e.g., promoter, 5'UTR, etc.)\n",
    "* Use the `annotatePeak` function and annotation datasets provided by R/Bioconductor\n",
    "* This function takes some time, so we will load previously generated data"
   ]
  },
  {
   "cell_type": "code",
   "execution_count": null,
   "metadata": {
    "collapsed": false
   },
   "outputs": [],
   "source": [
    "## We will apply the annotatePeak function to every peak set in our\n",
    "## peak list using the lapply method\n",
    "#\n",
    "# peakAnnoList <- lapply(peaks, annotatePeak, TxDb=txdb, \n",
    "#                       tssRegion=c(-3000, 3000),\n",
    "#                       annoDb=\"org.Hs.eg.db\", verbose=FALSE)\n",
    "\n",
    "# Since we are not computing this here, we will load the pre-computed dataset\n",
    "load(file.path(idir, \"Rdata\", \"peakAnnoList.Rdata\"))\n",
    "\n",
    "# If we peek at the Ab1 data, we will get a nice summary.\n",
    "print(\"Summary of Ab1 annotation:\")\n",
    "peakAnnoList$Ab1"
   ]
  },
  {
   "cell_type": "markdown",
   "metadata": {},
   "source": [
    "### Visualize genomic feature distribution of peaks\n",
    "\n",
    "* Shows the percentage of peaks in various regions (e.g., promoter, intron, downstream, etc.)\n",
    "* Show differences between treatments/factors\n",
    "* In most transcription factor cases, we expect a lot of peaks closer to the promoter; however, this depends on the biology of your protein of interest\n",
    "* Use the `plotAnnoBar` function"
   ]
  },
  {
   "cell_type": "code",
   "execution_count": null,
   "metadata": {
    "collapsed": false
   },
   "outputs": [],
   "source": [
    "# The barchart allows you to plot multiple samples, so\n",
    "# you can pass the peakAnnoList\n",
    "plotAnnoBar(peakAnnoList)"
   ]
  },
  {
   "cell_type": "markdown",
   "metadata": {},
   "source": [
    "## Functional enrichment analysis<a class=\"anchor\" id=\"01.5\"></a> <small>[[top](#top)]</small>\n",
    "\n",
    "* What are our potential binding target genes enriched in?\n",
    "* We will need ENTREZ gene IDs to perform functional enrichment\n",
    "* ChIPseeker provides a convenient function `seq2gene` to to handle many-to-many mappings in your peak annotations and is recommended for doing enrichment analyses"
   ]
  },
  {
   "cell_type": "code",
   "execution_count": null,
   "metadata": {
    "collapsed": false
   },
   "outputs": [],
   "source": [
    "# Load the clusterProfiler package\n",
    "suppressMessages(require(clusterProfiler))\n",
    "\n",
    "# Use the seq2gene function to make gene lists for functional analysis\n",
    "# Notice that we are passing the original, unannotated peak data\n",
    "genes.ab1 <- seq2gene(peaks$Ab1, tssRegion = c(-3000, 3000), \n",
    "                      flankDistance=3000, TxDb=txdb)\n",
    "genes.rnapii <- seq2gene(peaks$RNAPII, tssRegion = c(-3000, 3000), \n",
    "                         flankDistance=3000, TxDb=txdb)\n",
    "\n",
    "# Next, we will create a list containing these gene lists\n",
    "geneList <- list(\"Ab1\"=genes.ab1, \"RNAPII\"=genes.rnapii)\n",
    "\n",
    "# Print first few genes\n",
    "print(\"First few Ab1 genes:\")\n",
    "head(geneList$Ab1)\n",
    "\n",
    "print(\"First few RNAPII genes:\")\n",
    "head(geneList$RNAPII)"
   ]
  },
  {
   "cell_type": "markdown",
   "metadata": {},
   "source": [
    "* Using the `geneList` we just created, we can perform enrichment\n",
    "* Use the same enrichment package mentioned before, [clusterProfiler](http://bioconductor.org/packages/release/bioc/html/clusterProfiler.html)\n",
    "* We will run KEGG pathway enrichment\n",
    "* Since this takes some time to run, we will load previously generated data"
   ]
  },
  {
   "cell_type": "code",
   "execution_count": null,
   "metadata": {
    "collapsed": false
   },
   "outputs": [],
   "source": [
    "## KEGG Pathway enrichment\n",
    "## We use the compareCluster function with the enrichKEGG method\n",
    "#\n",
    "# kegg.res <- compareCluster(geneList, fun = \"enrichKEGG\", organism='hsa')\n",
    "\n",
    "# Since we have pre-computed results we need to load them\n",
    "load(file.path(idir, \"Rdata\", \"kegg.res.Rdata\"))\n",
    "\n",
    "# Now, we plot the top 15 kegg pathways from each peak set\n",
    "dotplot(kegg.res, showCategory=15, font.size=6)"
   ]
  },
  {
   "cell_type": "markdown",
   "metadata": {},
   "source": [
    "## Overlap of peaks<a class=\"anchor\" id=\"01.6\"></a> <small>[[top](#top)]</small>\n",
    "\n",
    "* Common analysis in ChIP-Seq\n",
    "* Compare overlap of peaks across treatments/factors\n",
    "* Use the `vennplot` function on our input peaks (`peaks`)"
   ]
  },
  {
   "cell_type": "code",
   "execution_count": null,
   "metadata": {
    "collapsed": false
   },
   "outputs": [],
   "source": [
    "# Venn diagram of peak overlaps\n",
    "vennplot(peaks)"
   ]
  },
  {
   "cell_type": "markdown",
   "metadata": {},
   "source": [
    "# Linking RNA-seq results with ChIP-seq results<a class=\"anchor\" id=\"02\"></a> <small>[[top](#top)]</small>\n",
    "\n",
    "* Integrate the binding target of ChIP-seq with differentially expressed genes\n",
    "* I intersected the Ab1 and RNAPII peaks to get the overlapping ones for this analysis\n",
    "* We will first load these intersected peaks in to R using ChIPseeker"
   ]
  },
  {
   "cell_type": "code",
   "execution_count": null,
   "metadata": {
    "collapsed": false
   },
   "outputs": [],
   "source": [
    "# Load the libraries\n",
    "# These will need to be installed already\n",
    "suppressMessages(require(ChIPseeker))\n",
    "suppressMessages(require(TxDb.Hsapiens.UCSC.hg38.knownGene))\n",
    "txdb <- TxDb.Hsapiens.UCSC.hg38.knownGene\n",
    "\n",
    "# Load in the overlapping peaks\n",
    "idir <- \"/home/ubuntu/data/chipseq/fullset\"\n",
    "chip.peaks <- readPeakFile(file.path(idir, \"peaks\", \n",
    "                           \"Ab1_RNAPII.overlapped.filtered.intersected.narrowPeak\"), \n",
    "                           header=FALSE)\n",
    "\n",
    "# Peek at the data\n",
    "head(chip.peaks)"
   ]
  },
  {
   "cell_type": "markdown",
   "metadata": {},
   "source": [
    "* Next, we will annotate using the `annotatePeak` function. Due to time constraints, we will load the previously generated data"
   ]
  },
  {
   "cell_type": "code",
   "execution_count": null,
   "metadata": {
    "collapsed": false
   },
   "outputs": [],
   "source": [
    "## Annotate\n",
    "# peakAnno <- annotatePeak(chip.peaks, TxDb=txdb, \n",
    "#                          tssRegion=c(-3000,3000),\n",
    "#                          annoDb=\"org.Hs.eg.db\", verbose=FALSE)\n",
    "\n",
    "# We will simply load the pre-existing Robject\n",
    "load(file.path(idir, \"peaks\", \"Rdata\", \"Ab1_RNAPII.overlapped.annotated.Rdata\"))\n",
    "\n",
    "# Show the names of the annotated columns \n",
    "names(as.data.frame(peakAnno))"
   ]
  },
  {
   "cell_type": "markdown",
   "metadata": {},
   "source": [
    "* Subset peaks within a particular distance from the TSS using the `distanceToTSS` column\n",
    "* We will use an arbitrary distance of 30,000bp (depends on your protein of interest and biological question)\n",
    "* Subset the annotated data using the `subset` function"
   ]
  },
  {
   "cell_type": "code",
   "execution_count": null,
   "metadata": {
    "collapsed": false
   },
   "outputs": [],
   "source": [
    "## Subset peaks by the absolute value of distanceToTSS\n",
    "## We arbitrarily chose 30,000 bp as the cutoff. We also\n",
    "## need to remove peaks where there is no known official gene symbol.\n",
    "## We can do this using the is.na() function\n",
    "peakAnno.30kb <- subset(as.data.frame(peakAnno), \n",
    "                        abs(distanceToTSS) < 30000 & !is.na(SYMBOL))\n",
    "\n",
    "## Next, let's create a vector of unique gene symbols\n",
    "genes.chip <- unique(peakAnno.30kb$SYMBOL)\n",
    "print(\"The number of unique genes:\")\n",
    "length(genes.chip)"
   ]
  },
  {
   "cell_type": "markdown",
   "metadata": {
    "collapsed": true
   },
   "source": [
    "* At this point we have the ChIP-seq data we need, so we will now load in the RNA-seq data"
   ]
  },
  {
   "cell_type": "code",
   "execution_count": null,
   "metadata": {
    "collapsed": false,
    "scrolled": true
   },
   "outputs": [],
   "source": [
    "## Load in the RNA-seq data you output earlier\n",
    "rnaseq.dat <- read.delim(file.path(idir, \"rnaseq\", \n",
    "                        \"DLBC.coding.KOvsWT.deseq2.txt.flt.fdr0.05_fc1.5\"),\n",
    "                        header=TRUE, stringsAsFactors=FALSE)\n",
    "\n",
    "## Peek at data\n",
    "head(rnaseq.dat)"
   ]
  },
  {
   "cell_type": "markdown",
   "metadata": {},
   "source": [
    "* Subset our RNA-Seq data to the genes found in the ChIP-Seq dataset using the `subset()` command"
   ]
  },
  {
   "cell_type": "code",
   "execution_count": null,
   "metadata": {
    "collapsed": false
   },
   "outputs": [],
   "source": [
    "## Select rows from RNA-Seq data that contain genes in the\n",
    "## ChIP-Seq dataset\n",
    "shared.dat <- subset(rnaseq.dat, SYMBOL %in% genes.chip)\n",
    "\n",
    "print(\"There are this many overlapping genes:\")\n",
    "dim(shared.dat)[1]\n",
    "\n",
    "print(\"These are the overlapping genes:\")\n",
    "shared.dat$SYMBOL"
   ]
  },
  {
   "cell_type": "markdown",
   "metadata": {},
   "source": [
    "* We now of the expression data from differentially expressed genes that also had peaks within 30kb from the TSS site!\n",
    "* Let's run KEGG enrichment"
   ]
  },
  {
   "cell_type": "code",
   "execution_count": null,
   "metadata": {
    "collapsed": false
   },
   "outputs": [],
   "source": [
    "## An example of running KEGG pathway enrichment on the ovelapping genes\n",
    "suppressMessages(library(clusterProfiler))\n",
    "\n",
    "## Use the built-in bitr function to get the ENTREZIDs from the symbols\n",
    "entrez.shared <- bitr(shared.dat$SYMBOL, fromType=\"SYMBOL\", toType=\"ENTREZID\", \n",
    "                      OrgDb=\"org.Hs.eg.db\")\n",
    "\n",
    "## Run KEGG enrichment\n",
    "kegg.res <- enrichKEGG(gene=entrez.shared$ENTREZID,\n",
    "                  org = 'hsa',\n",
    "                  pAdjustMethod=\"BH\",\n",
    "                  qvalueCutoff=0.05)\n",
    "dotplot(kegg.res, font.size=8)"
   ]
  },
  {
   "cell_type": "markdown",
   "metadata": {},
   "source": [
    "## Viewing integrated data in IGV<a class=\"anchor\" id=\"02.1\"></a> <small>[[top](#top)]</small>\n",
    "\n",
    "* Screenshot of the [FOS](http://www.genecards.org/cgi-bin/carddisp.pl?gene=FOS) gene\n",
    "* bigWig files from ChIP-Seq and RNA-Seq\n",
    "* [Integrative Genomics Viewer](http://software.broadinstitute.org/software/igv/)\n",
    "* Click [here](workshop_extended/assets/f09_FOS_integration_anno_IGV.png) for larger image\n",
    "\n",
    "<img src=\"workshop_extended/assets/f09_FOS_integration_anno_IGV.png\" alt=\"Figure 09\" style=\"float: center;\"/>"
   ]
  },
  {
   "cell_type": "markdown",
   "metadata": {},
   "source": [
    "## More advanced integration<a class=\"anchor\" id=\"02.2\"></a> <small>[[top](#top)]</small>\n",
    "\n",
    "If you would like to perform a more advanced integration, I suggest you look into the [BETA](http://cistrome.org/BETA/) software from Cistrome.\n",
    "\n",
    "> Wang, S., Sun, H., Ma, J., Zang, C., Wang, C., Wang, J., ... & Liu, X. S. (2013). Target analysis by integration of transcriptome and ChIP-seq data with BETA. Nature protocols, 8(12), 2502-2515. \n",
    "\n",
    "They provide both stand-alone and Galaxy-based access to BETA. Here is a brief description of BETA:\n",
    "\n",
    "> Binding and Expression Target Analysis (BETA) is a software package that integrates ChIP-seq of transcription factors or chromatin regulators with differential gene expression data to infer direct target genes. BETA has three functions: (1) to predict whether the factor has activating or repressive function; (2) to infer the factor’s target genes; and (3) to identify the motif of the factor and its collaborators which might modulate the factor’s activating or repressive function. Here we describe the implementation and features of BETA to demonstrate its application to several datasets. BETA requires ~2GB RAM and 1h for the whole procedure.\n",
    "\n",
    "# Other useful tools<a class=\"anchor\" id=\"03\"></a> <small>[[top](#top)]</small>\n",
    "\n",
    "* If you have replicates and multiple conditions for your ChIP-Seq data, the R/Bioconductor package [DiffBind](https://bioconductor.org/packages/release/bioc/html/DiffBind.html) provides several statistical methods for examining differential binding\n",
    "* [Homer](http://homer.salk.edu/homer/) is a popular suite of ChIP-Seq tools\n",
    "* The [Regulatory Genomics Toolbox](http://www.regulatory-genomics.org/) provides several python tools for ChIP-Seq analyses\n",
    "* [OmicTools](https://omictools.com/chip-seq-category) has a nice aggregation of various ChIP-Seq tools and databases"
   ]
  }
 ],
 "metadata": {
  "kernelspec": {
   "display_name": "R",
   "language": "R",
   "name": "ir"
  },
  "language_info": {
   "codemirror_mode": "r",
   "file_extension": ".r",
   "mimetype": "text/x-r-source",
   "name": "R",
   "pygments_lexer": "r",
   "version": "3.3.1"
  }
 },
 "nbformat": 4,
 "nbformat_minor": 0
}
