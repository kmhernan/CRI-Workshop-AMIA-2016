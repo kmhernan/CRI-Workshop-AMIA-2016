{
 "cells": [
  {
   "cell_type": "markdown",
   "metadata": {},
   "source": [
    "## Overview: <a class=\"anchor\" id=\"top\"></a>\n",
    "* [Introduction to ChIP-Seq](#01)\n",
    "    * [What is ChIP-seq?](#01.1)\n",
    "    * [What can we learn from ChIP-seq?](#01.2)\n",
    "    * [What can we can't learn from ChIP-seq?](#01.3)\n",
    "    * [Overview of a ChIP-seq experiment](#01.4)\n",
    "    * [Experimental design](#01.5)\n",
    "    * [A must read for ChIP-seq experiments](#01.6)\n",
    "* [Analysis of ChIP-Seq](#02)\n",
    "    * [File formats](#02.1)\n",
    "    * [Basic ChIP-Seq workflow](#02.2)\n",
    "    * [Peak calling](#02.3)\n",
    "    * [ChIP-Seq quality control](#02.4)"
   ]
  },
  {
   "cell_type": "markdown",
   "metadata": {},
   "source": [
    "# Introduction to ChIP-seq<a class=\"anchor\" id=\"01\"></a> <small>[[top](#top)]</small>\n",
    "\n",
    "Kyle Hernandez, Ph.D. [khernandez@bsd.uchicago.edu](mailto:khernandez@bsd.uchicago.edu)\n",
    "\n",
    "**2016 AMIA Pre-conference symposium**\n",
    "\n",
    "This document briefly covers the basics of what ChIP-Seq is and the types of questions it can answer. It is\n",
    "by no means exhaustive. I provide some links and citations for you to read through on your own time if you are \n",
    "interested in more in-depth knowledge. In addition, there are some more in-depth notebooks available in the `workshop_extended` directory which you can go through on your own time."
   ]
  },
  {
   "cell_type": "markdown",
   "metadata": {},
   "source": [
    "## What is ChIP-seq?<a class=\"anchor\" id=\"01.1\"></a> <small>[[top](#top)]</small>\n",
    "\n",
    "<img src=\"workshop_extended/assets/f01_chipseq_overview.jpg\" alt=\"Figure 01\" style=\"width: 300px; float: right;\"/>\n",
    "\n",
    "* **Ch**romatin **I**mmuno**P**recipitation followed by **seq**uencing\n",
    "* Sequencing of the genomic DNA fragments that co-precipitate with the protein of interest using high-throughput sequencing technologies\n",
    "* Detect epigenetic changes\n",
    "    * A \"discovery\" tool\n",
    "    * Genome-wide\n",
    "\n",
    "### Various types of ChIP-seq\n",
    "\n",
    "| Protein of interest | Enriched genomic DNA fragments |\n",
    "| ------------------- | ------------------------------ |\n",
    "| Transcription factors | Promoter, enhancer, silencer, insulator, other cis elements |\n",
    "| RNA polymerase | Regions under active transcription |\n",
    "| DNA polymerase | Regions under replication |\n",
    "| Modified histones | Chromatin modification |\n",
    "\n",
    "...and more! We will focus on **transcription factors** in these sessions."
   ]
  },
  {
   "cell_type": "markdown",
   "metadata": {},
   "source": [
    "## What can we learn from ChIP-seq?<a class=\"anchor\" id=\"01.2\"></a> <small>[[top](#top)]</small>\n",
    "\n",
    "* Location\n",
    "    * Where does my protein of interest bind?\n",
    "* Quantification\n",
    "    * How strong is the signal?\n",
    "* Annotation\n",
    "    * Which type of sequence motif is enriched/present in the peaks? _(We won't have time to go over motif analysis, but the [MEME suite](http://meme-suite.org/) is a great set of tools)_\n",
    "    * What are the target genes?\n",
    "    * Which network/pathways are my target genes enriched?\n",
    "\n",
    "## What we can't learn from ChIP-seq<a class=\"anchor\" id=\"01.3\"></a> <small>[[top](#top)]</small>\n",
    "\n",
    "* Gene expression changes (RNAseq)\n",
    "* DNA sequence changes (WES, WGS, target amplicon sequencing)\n",
    "* DNA methylation changes (MeDIPseq, bisulfite sequencing)\n",
    "* RNA-protein interaction (CLIPseq)"
   ]
  },
  {
   "cell_type": "markdown",
   "metadata": {},
   "source": [
    "## Overview of a ChIP-seq experiment<a class=\"anchor\" id=\"01.4\"></a> <small>[[top](#top)]</small>\n",
    "\n",
    "* Cross-link proteins to DNA (usually with formaldehyde)\n",
    "* Cell disruption and sonication to shear the chromatin to a target size (100-300bp)\n",
    "* Protein of interest and its bound DNA is enriched by purification with an antibody\n",
    "* Next-generation sequencing\n",
    "* Identify putatively enriched genomic regions\n",
    "\n",
    "<img src=\"workshop_extended/assets/f02_chipseq_experiment.png\" alt=\"Figure 02\" style=\"float: center;\"/>"
   ]
  },
  {
   "cell_type": "markdown",
   "metadata": {},
   "source": [
    "## Experimental design<a class=\"anchor\" id=\"01.5\"></a> <small>[[top](#top)]</small>\n",
    "\n",
    "* Antibody quality is important\n",
    "    * Finding a _sensitive_ and _specific_ antibody to protein of interest is most crucial and challenging\n",
    "    * 20-35% of commercial \"ChIP-grade\" antibodies unusable ([modENCODE](http://www.modencode.org/))\n",
    "    * Check your antibody ahead if possible (e.g., Western blot)\n",
    "    * Antibody list from ENCODE: https://www.encodeproject.org/search/?type=AntibodyLot\n",
    "* You should use control samples to control for background noise\n",
    "    * \"input\" - crosslinking + fragmentation, but no IP genomic DNA; _most commonly used control_\n",
    "    * \"Mock IP\" - DNA obtained with a control antibody that reacts with an irrelevant, non-nuclear antigen (e.g., IgG); crosslinking + fragmentation + IP with IgG antibody\n",
    "* You should use biological replicates\n",
    "    * Recommend at least 2 biological replicates\n",
    "    * Used to establish biological variability\n",
    "    * Reduces false positives (more power)\n",
    "* The million dollar question: How many reads do I need?\n",
    "    * Transcription factors (sharp peaks)\n",
    "        * 20+ million reads per sample\n",
    "        * 40+ million per condition with 2 replicates\n",
    "        * 150 milion reads per Illumina HiSeq lane\n",
    "            * multiplex 4 samples (2 IP + 2 INPUT / lane)\n",
    "    * Histone modification / Nucleosome positioning (broad peaks)\n",
    "        * 40+ million per sample\n",
    "        * 400 million or more may be needed!\n",
    "    * It is important to _try_ and keep similar sequencing depths between different IP experiments (e.g., treatments), and between IP and INPUT (or fewer in INPUT)\n",
    "\n"
   ]
  },
  {
   "cell_type": "markdown",
   "metadata": {},
   "source": [
    "## A must read for ChIP-Seq projects<a class=\"anchor\" id=\"01.6\"></a> <small>[[top](#top)]</small>\n",
    "\n",
    "> Landt et al., 2012. Genome Research 22:1813-1831\n",
    "\n",
    "<img src=\"workshop_extended/assets/f03_chipseq_encode_paper.png\" alt=\"Figure 03\" style=\"float: center;\"/>"
   ]
  },
  {
   "cell_type": "markdown",
   "metadata": {},
   "source": [
    "<hr>\n",
    "\n",
    "# Analysis of ChIP-Seq<a class=\"anchor\" id=\"02\"></a> <small>[[top](#top)]</small>\n",
    "\n",
    "So far we have introduced the concept of ChIP-Seq and discussed important experimental design aspects. Here, we will focus on a subset of the analytical steps after receiving your ChIP-Seq data from the sequencing facility.\n",
    "\n",
    "## File formats<a class=\"anchor\" id=\"02.1\"></a> <small>[[top](#top)]</small>\n",
    "\n",
    "We do not have time to discuss file formats; however, we have provided a document (`workshop_extended/2016-AMIA-Workshop-Common-Formats`) which goes into more details. The most commonly used file formats in ChIP-seq analyses are:\n",
    "\n",
    "* [fastq](https://en.wikipedia.org/wiki/FASTQ_format) - sequence data\n",
    "* [fasta](https://en.wikipedia.org/wiki/FASTA_format) - sequence data\n",
    "* [SAM/BAM](http://samtools.github.io/hts-specs/SAMv1.pdf) - alignment data\n",
    "* [bed](https://genome.ucsc.edu/FAQ/FAQformat#format1) - peak data\n",
    "* [narrowPeak](https://genome.ucsc.edu/FAQ/FAQformat#format12) - peak data\n",
    "* [bigWig](https://genome.ucsc.edu/FAQ/FAQformat#format6.1) - normalized enrichment data\n",
    "\n",
    "## Basic ChIP-Seq Workflow<a class=\"anchor\" id=\"02.2\"></a> <small>[[top](#top)]</small>\n",
    "\n",
    "This workflow starts after you have received your sequencing data back from the sequencing facility (in fastq format). Due to time constraints we will focus only on peak calling and ChIP-Seq quality statistics with a hands-on session that covers the annotation module (starred modules in figure). Again, there is more information available in the extended documents available in the github repository.\n",
    "\n",
    "\n",
    "<img src=\"workshop_extended/assets/f04_chipseq_basic_workflow.png\" alt=\"Figure 01\" style=\"float: center;\"/>\n",
    "\n",
    "## Peak calling<a class=\"anchor\" id=\"02.3\"></a> <small>[[top](#top)]</small>\n",
    "\n",
    "> Goal: detect regions (peaks) of enrichment in our IP samples\n",
    "\n",
    "At this point in the workflow we have a set of reads aligned to our reference genome (BAM format) for each \n",
    "sample/treatment/control in the experiment. In simple terms, peak calling software searches for regions in the \n",
    "genome with a greater than expected number of alignments (\"sequencing tags\") compared to the \"background noise\". \n",
    "When you use a control sample (e.g., IgG, or input), peak calling software can better model the \"noise\" \n",
    "and greatly reduce the number of false positives.\n",
    "\n",
    "<img src=\"workshop_extended/assets/f06_chipseq_tag_shift.png\" width=\"450px\" alt=\"Figure 03\" style=\"float: left;\"/>\n",
    "\n",
    "### What does the ChIP-Seq signal look like?\n",
    "\n",
    "* Enriched sequence tags cluster at locations bound by the <span style=\"color:#FF8C00\">protein of interest</span> (e.g., transcription factor)\n",
    "* Sequencing tags accumulate on both the <span style=\"color:#B22222\">forward</span> and <span style=\"color:#6495ED\">reverse</span> strands centered around the binding site. That is to say, the tags are _shifted_ away from the center.\n",
    "* The distance (shift) from the center depends on the _fragment size_ of your sequencing library\n",
    "* The input control sequences lack this pattern of shifed stranded sequence tag\n",
    "\n",
    "[MACS2](http://liulab.dfci.harvard.edu/MACS/) is one of the most popular tools for detecting ChIP-seq peaks and is a good place to start for those who are new to peak detection.\n",
    "\n",
    "```\n",
    "Zhang et al. Model-based Analysis of ChIP-Seq (MACS). Genome Biol (2008) vol. 9 (9) pp. R137\n",
    "```\n"
   ]
  },
  {
   "cell_type": "markdown",
   "metadata": {
    "collapsed": true
   },
   "source": [
    "## ChIP-Seq quality control<a class=\"anchor\" id=\"02.4\"></a> <small>[[top](#top)]</small>\n",
    "\n",
    "The are several metrics and tools out there for determing the quality of your ChIP-Seq experiment (see \n",
    "[ENCODE guidelines](https://www.ncbi.nlm.nih.gov/pmc/articles/PMC3431496/)); however, we will only touch \n",
    "on two metrics:\n",
    "\n",
    "1. Relative strand correlation (RSC)\n",
    "2. Fraction of reads falling within peak regions (FRiP)\n",
    "\n",
    "### RSC scores\n",
    "\n",
    "* Quantify the sequencing tag clustering (IP enrichment) genome-wide\n",
    "* Pearson correlation between the strands after shifting the strands by _k_ base pairs\n",
    "* Two peaks are produced when cross-correlation is plotted against the shift value:\n",
    "    1. A peak of enrichment corresponding to predominant fragment length\n",
    "    2. Peak corresponding to the read length (called a \"phantom\" peak) \n",
    "    \n",
    "<img src=\"workshop_extended/assets/f07_chipseq_cc_plots.png\" alt=\"Figure 04\" style=\"float: center;\"/>\n",
    "\n",
    "* The ratio between the fragment-length peak and the read-length peak is the RSC $$RSC=\\frac{cc\\left(fragment\\_length\\right)-\\min\\left(cc\\right)}{cc\\left(read\\_length\\right)-\\min\\left(cc\\right)}$$\n",
    "* A good estimate for the signal-to-noise ratio in ChIP-seq experiments\n",
    "* High-quality ChIP-seq datasets tend to have a **larger** fragment-length peak compared with the read-length peak\n",
    "* ENCODE guidelines suggest that you **repeat samples with RSC values less than 0.8**\n",
    "\n",
    "### FRiP\n",
    "\n",
    "* Fraction of your mapped reads that fall into peak regions identified by a peak-calling algorithm\n",
    "* Rough metric for estimating the global enrichment of ChIP-seq data\n",
    "* Even in highly enriched ChIP-seq experiments, only a minority of reads occur in peaks (the majority are background)\n",
    "* ENCODE has shown that FRiP values correlate positively and lineraly with RSC\n",
    "* ENCODE guidelines suggest that you **repeat experiments with FRiP values below 1%**\n",
    "\n",
    "**NOTE: In the session questions, we accidentally provided really high FRiP estimates and those values will probably never be seen in your experiments**\n"
   ]
  },
  {
   "cell_type": "code",
   "execution_count": null,
   "metadata": {
    "collapsed": true
   },
   "outputs": [],
   "source": []
  }
 ],
 "metadata": {
  "kernelspec": {
   "display_name": "Python 2",
   "language": "python",
   "name": "python2"
  },
  "language_info": {
   "codemirror_mode": {
    "name": "ipython",
    "version": 2
   },
   "file_extension": ".py",
   "mimetype": "text/x-python",
   "name": "python",
   "nbconvert_exporter": "python",
   "pygments_lexer": "ipython2",
   "version": "2.7.12"
  }
 },
 "nbformat": 4,
 "nbformat_minor": 0
}
