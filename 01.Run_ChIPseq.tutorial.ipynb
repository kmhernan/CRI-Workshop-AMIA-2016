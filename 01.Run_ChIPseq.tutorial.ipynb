{
 "cells": [
  {
   "cell_type": "markdown",
   "metadata": {
    "nbpresent": {
     "id": "ef70bdb7-ee5a-49b7-b182-05043a9d48e8"
    }
   },
   "source": [
    "## Overview: <a class=\"anchor\" id=\"top\"></a>\n",
    "* [Introduction to ChIP-Seq](#01)\n",
    "    * [What is ChIP-seq?](#01.1)\n",
    "    * [What can we learn from ChIP-seq?](#01.2)\n",
    "    * [What can we can't learn from ChIP-seq?](#01.3)\n",
    "    * [Overview of a ChIP-seq experiment](#01.4)\n",
    "    * [Experimental design](#01.5)\n",
    "    * [A must read for ChIP-seq experiments](#01.6)\n",
    "* [Analysis of ChIP-Seq](#02)\n",
    "    * [File formats](#02.1)\n",
    "    * [Basic ChIP-Seq workflow](#02.2)\n",
    "    * [Peak calling](#02.3)\n",
    "    * [ChIP-Seq quality control](#02.4)\n",
    "    \n",
    "License: LGPL-3.0"
   ]
  },
  {
   "cell_type": "markdown",
   "metadata": {
    "nbpresent": {
     "id": "35f46376-7fa2-4154-a35a-add8a69d0da5"
    }
   },
   "source": [
    "# Introduction to ChIP-seq<a class=\"anchor\" id=\"01\"></a> <small>[[top](#top)]</small>\n",
    "\n",
    "Kyle Hernandez, Ph.D. [khernandez@bsd.uchicago.edu](mailto:khernandez@bsd.uchicago.edu)\n",
    "\n",
    "**2016 AMIA Pre-conference symposium**\n",
    "\n",
    "This document briefly covers the basics of what ChIP-Seq is and the types of questions it can answer. It is\n",
    "by no means exhaustive. I provide some links and citations for you to read through on your own time if you are \n",
    "interested in more in-depth knowledge. In addition, there are some more in-depth notebooks available in the `workshop_extended` directory which you can go through on your own time."
   ]
  },
  {
   "cell_type": "markdown",
   "metadata": {
    "nbpresent": {
     "id": "93bd98db-bb18-45bd-8643-af7fc9503633"
    }
   },
   "source": [
    "## What is ChIP-seq?<a class=\"anchor\" id=\"01.1\"></a> <small>[[top](#top)]</small>\n",
    "\n",
    "<img src=\"workshop_extended/assets/f01_chipseq_overview.jpg\" alt=\"Figure 01\" style=\"width: 300px; float: right;\"/>\n",
    "\n",
    "* **Ch**romatin **I**mmuno**P**recipitation followed by **seq**uencing\n",
    "* Sequencing of the genomic DNA fragments that co-precipitate with the protein of interest using high-throughput sequencing technologies\n",
    "* Detect epigenetic changes\n",
    "    * A \"discovery\" tool\n",
    "    * Genome-wide\n",
    "\n",
    "### Various types of ChIP-seq\n",
    "\n",
    "| Protein of interest | Enriched genomic DNA fragments |\n",
    "| ------------------- | ------------------------------ |\n",
    "| Transcription factors | Promoter, enhancer, silencer, insulator, other cis elements |\n",
    "| RNA polymerase | Regions under active transcription |\n",
    "| DNA polymerase | Regions under replication |\n",
    "| Modified histones | Chromatin modification |\n",
    "\n",
    "...and more! We will focus on **transcription factors** in these sessions."
   ]
  },
  {
   "cell_type": "markdown",
   "metadata": {
    "nbpresent": {
     "id": "21125db1-7dde-4870-b8d4-54328d760be7"
    }
   },
   "source": [
    "## What can we learn from ChIP-seq?<a class=\"anchor\" id=\"01.2\"></a> <small>[[top](#top)]</small>\n",
    "\n",
    "* Location\n",
    "    * Where does my protein of interest bind?\n",
    "* Quantification\n",
    "    * How strong is the signal?\n",
    "* Annotation\n",
    "    * Which type of sequence motif is enriched/present in the peaks? _(We won't have time to go over motif analysis, but the [MEME suite](http://meme-suite.org/) is a great set of tools)_\n",
    "    * What are the target genes?\n",
    "    * Which network/pathways are my target genes enriched?\n",
    "\n",
    "## What we can't learn from ChIP-seq<a class=\"anchor\" id=\"01.3\"></a> <small>[[top](#top)]</small>\n",
    "\n",
    "* Gene expression changes (RNAseq)\n",
    "* DNA sequence changes (WES, WGS, target amplicon sequencing)\n",
    "* DNA methylation changes (MeDIPseq, bisulfite sequencing)\n",
    "* RNA-protein interaction (CLIPseq)"
   ]
  },
  {
   "cell_type": "markdown",
   "metadata": {
    "nbpresent": {
     "id": "52fc22a4-44ef-407e-a5a1-38d94c5af9f5"
    }
   },
   "source": [
    "## Overview of a ChIP-seq experiment<a class=\"anchor\" id=\"01.4\"></a> <small>[[top](#top)]</small>\n",
    "\n",
    "* Cross-link proteins to DNA (usually with formaldehyde)\n",
    "* Cell disruption and sonication to shear the chromatin to a target size (100-300bp)\n",
    "* Protein of interest and its bound DNA is enriched by purification with an antibody\n",
    "* Next-generation sequencing\n",
    "* Identify putatively enriched genomic regions\n",
    "\n",
    "<img src=\"workshop_extended/assets/f02_chipseq_experiment.png\" alt=\"Figure 02\" style=\"float: center;\"/>"
   ]
  },
  {
   "cell_type": "markdown",
   "metadata": {
    "nbpresent": {
     "id": "c7d1867f-d44d-4a1e-9bf6-d7cbfd13204f"
    }
   },
   "source": [
    "## Experimental design<a class=\"anchor\" id=\"01.5\"></a> <small>[[top](#top)]</small>\n",
    "\n",
    "* Antibody quality is important\n",
    "    * Finding a _sensitive_ and _specific_ antibody to protein of interest is most crucial and challenging\n",
    "    * 20-35% of commercial \"ChIP-grade\" antibodies unusable ([modENCODE](http://www.modencode.org/))\n",
    "    * Check your antibody ahead if possible (e.g., Western blot)\n",
    "    * Antibody list from ENCODE: https://www.encodeproject.org/search/?type=AntibodyLot\n",
    "* You should use control samples to control for background noise\n",
    "    * \"input\" - crosslinking + fragmentation, but no IP genomic DNA; _most commonly used control_\n",
    "    * \"Mock IP\" - DNA obtained with a control antibody that reacts with an irrelevant, non-nuclear antigen (e.g., IgG); crosslinking + fragmentation + IP with IgG antibody\n",
    "* You should use biological replicates\n",
    "    * Recommend at least 2 biological replicates\n",
    "    * Used to establish biological variability\n",
    "    * Reduces false positives (more power)\n",
    "* The million dollar question: How many reads do I need?\n",
    "    * Transcription factors (sharp peaks)\n",
    "        * 20+ million reads per sample\n",
    "        * 40+ million per condition with 2 replicates\n",
    "        * 150 milion reads per Illumina HiSeq lane\n",
    "            * multiplex 4 samples (2 IP + 2 INPUT / lane)\n",
    "    * Histone modification / Nucleosome positioning (broad peaks)\n",
    "        * 40+ million per sample\n",
    "        * 400 million or more may be needed!\n",
    "    * It is important to _try_ and keep similar sequencing depths between different IP experiments (e.g., treatments), and between IP and INPUT (or fewer in INPUT)\n",
    "\n"
   ]
  },
  {
   "cell_type": "markdown",
   "metadata": {
    "nbpresent": {
     "id": "93cd345d-c9df-4b2a-9870-e3347cc95be3"
    }
   },
   "source": [
    "## A must read for ChIP-Seq projects<a class=\"anchor\" id=\"01.6\"></a> <small>[[top](#top)]</small>\n",
    "\n",
    "> Landt et al., 2012. Genome Research 22:1813-1831\n",
    "\n",
    "<img src=\"workshop_extended/assets/f03_chipseq_encode_paper.png\" alt=\"Figure 03\" style=\"float: center;\"/>"
   ]
  },
  {
   "cell_type": "markdown",
   "metadata": {
    "nbpresent": {
     "id": "8d815ef8-050d-4098-999e-d249e112e874"
    }
   },
   "source": [
    "<hr>\n",
    "\n",
    "# Analysis of ChIP-Seq<a class=\"anchor\" id=\"02\"></a> <small>[[top](#top)]</small>\n",
    "\n",
    "So far we have introduced the concept of ChIP-Seq and discussed important experimental design aspects. Here, we will focus on a subset of the analytical steps after receiving your ChIP-Seq data from the sequencing facility.\n",
    "\n",
    "## File formats<a class=\"anchor\" id=\"02.1\"></a> <small>[[top](#top)]</small>\n",
    "\n",
    "We do not have time to discuss file formats; however, we have provided a document (`workshop_extended/2016-AMIA-Workshop-Common-Formats`) which goes into more details. The most commonly used file formats in ChIP-seq analyses are:\n",
    "\n",
    "* [fastq](https://en.wikipedia.org/wiki/FASTQ_format) - sequence data\n",
    "* [fasta](https://en.wikipedia.org/wiki/FASTA_format) - sequence data\n",
    "* [SAM/BAM](http://samtools.github.io/hts-specs/SAMv1.pdf) - alignment data\n",
    "* [bed](https://genome.ucsc.edu/FAQ/FAQformat#format1) - peak data\n",
    "* [narrowPeak](https://genome.ucsc.edu/FAQ/FAQformat#format12) - peak data\n",
    "* [bigWig](https://genome.ucsc.edu/FAQ/FAQformat#format6.1) - normalized enrichment data\n",
    "\n",
    "## Basic ChIP-Seq Workflow<a class=\"anchor\" id=\"02.2\"></a> <small>[[top](#top)]</small>\n",
    "\n",
    "This workflow starts after you have received your sequencing data back from the sequencing facility (in fastq format). Due to time constraints we will focus only on peak calling and ChIP-Seq quality statistics with a hands-on session that covers the annotation module (starred modules in figure). Again, there is more information available in the extended documents available in the github repository.\n",
    "\n",
    "\n",
    "<img src=\"workshop_extended/assets/f04_chipseq_basic_workflow.png\" alt=\"Figure 01\" style=\"float: center;\"/>\n",
    "\n",
    "## Peak calling<a class=\"anchor\" id=\"02.3\"></a> <small>[[top](#top)]</small>\n",
    "\n",
    "> Goal: detect regions (peaks) of enrichment in our IP samples\n",
    "\n",
    "At this point in the workflow we have a set of reads aligned to our reference genome (BAM format) for each \n",
    "sample/treatment/control in the experiment. In simple terms, peak calling software searches for regions in the \n",
    "genome with a greater than expected number of alignments (\"sequencing tags\") compared to the \"background noise\". \n",
    "When you use a control sample (e.g., IgG, or input), peak calling software can better model the \"noise\" \n",
    "and greatly reduce the number of false positives.\n",
    "\n",
    "<img src=\"workshop_extended/assets/f06_chipseq_tag_shift.png\" width=\"450px\" alt=\"Figure 03\" style=\"float: left;\"/>\n",
    "\n",
    "### What does the ChIP-Seq signal look like?\n",
    "\n",
    "* Enriched sequence tags cluster at locations bound by the <span style=\"color:#FF8C00\">protein of interest</span> (e.g., transcription factor)\n",
    "* Sequencing tags accumulate on both the <span style=\"color:#B22222\">forward</span> and <span style=\"color:#6495ED\">reverse</span> strands centered around the binding site. That is to say, the tags are _shifted_ away from the center.\n",
    "* The distance (shift) from the center depends on the _fragment size_ of your sequencing library\n",
    "* The input control sequences lack this pattern of shifted stranded sequence tag\n",
    "\n",
    "[MACS2](http://liulab.dfci.harvard.edu/MACS/) is one of the most popular tools for detecting ChIP-seq peaks and is a good place to start for those who are new to peak detection.\n",
    "\n",
    "```\n",
    "Zhang et al. Model-based Analysis of ChIP-Seq (MACS). Genome Biol (2008) vol. 9 (9) pp. R137\n",
    "```\n"
   ]
  },
  {
   "cell_type": "markdown",
   "metadata": {
    "collapsed": true,
    "nbpresent": {
     "id": "3be4e86f-763e-484e-bece-db3521c970f5"
    }
   },
   "source": [
    "## ChIP-Seq quality control<a class=\"anchor\" id=\"02.4\"></a> <small>[[top](#top)]</small>\n",
    "\n",
    "The are several metrics and tools out there for determing the quality of your ChIP-Seq experiment (see \n",
    "[ENCODE guidelines](https://www.ncbi.nlm.nih.gov/pmc/articles/PMC3431496/)); however, we will only touch \n",
    "on two metrics:\n",
    "\n",
    "1. Relative strand correlation (RSC)\n",
    "2. Fraction of reads falling within peak regions (FRiP)\n",
    "\n",
    "### RSC scores\n",
    "\n",
    "<img src=\"workshop_extended/assets/f11_shift.png\" alt=\"Figure 11\" width=\"400px\" style=\"float: right;\"/>\n",
    "* Quantify the sequencing tag clustering (IP enrichment) genome-wide\n",
    "* Pearson correlation of sequence tag densities between the strands after shifting by _k_ base pairs\n",
    "* Two peaks are produced when cross-correlation is plotted against the shift value:\n",
    "    1. A peak of enrichment corresponding to predominant fragment length\n",
    "    2. Peak corresponding to the read length (called a \"phantom\" peak) \n",
    "    \n",
    "<img src=\"workshop_extended/assets/f07_chipseq_cc_plots.png\" alt=\"Figure 04\" style=\"float: center;\"/>\n",
    "\n",
    "* The ratio between the fragment-length peak and the read-length peak is the RSC $$RSC=\\frac{cc\\left(fragment\\_length\\right)-\\min\\left(cc\\right)}{cc\\left(read\\_length\\right)-\\min\\left(cc\\right)}$$\n",
    "* A good estimate for the signal-to-noise ratio in ChIP-seq experiments\n",
    "* High-quality ChIP-seq datasets tend to have a **larger** fragment-length peak compared with the read-length peak\n",
    "* ENCODE guidelines suggest that you **repeat samples with RSC values less than 0.8**\n",
    "\n",
    "### FRiP\n",
    "\n",
    "* Fraction of your mapped reads that fall into peak regions identified by a peak-calling algorithm\n",
    "* Rough metric for estimating the global enrichment of ChIP-seq data\n",
    "* Even in highly enriched ChIP-seq experiments, only a minority of reads occur in peaks (the majority are background)\n",
    "* ENCODE has shown that FRiP values correlate positively and linearly with RSC\n",
    "* ENCODE guidelines suggest that you **repeat experiments with FRiP values below 1%**\n",
    "\n",
    "**NOTE: In the session questions, we accidentally provided really high FRiP estimates and those values will probably never be seen in your experiments**\n"
   ]
  }
 ],
 "metadata": {
  "kernelspec": {
   "display_name": "Python [default]",
   "language": "python",
   "name": "python2"
  },
  "language_info": {
   "codemirror_mode": {
    "name": "ipython",
    "version": 2
   },
   "file_extension": ".py",
   "mimetype": "text/x-python",
   "name": "python",
   "nbconvert_exporter": "python",
   "pygments_lexer": "ipython2",
   "version": "2.7.12"
  },
  "nbpresent": {
   "slides": {
    "04839a1a-1376-47b4-b035-7c0cb43b7aa3": {
     "id": "04839a1a-1376-47b4-b035-7c0cb43b7aa3",
     "prev": null,
     "regions": {
      "054bb5dc-55af-469e-b1e2-924c739cb742": {
       "attrs": {
        "height": 0.8,
        "width": 0.8,
        "x": 0.1,
        "y": 0.1
       },
       "content": {
        "cell": "ef70bdb7-ee5a-49b7-b182-05043a9d48e8",
        "part": "whole"
       },
       "id": "054bb5dc-55af-469e-b1e2-924c739cb742"
      }
     }
    },
    "2d0e7ffe-80f1-49c1-b0be-6aee39d6ad13": {
     "id": "2d0e7ffe-80f1-49c1-b0be-6aee39d6ad13",
     "prev": "c731d28c-1a2e-468e-a920-2ccfeed0b740",
     "regions": {
      "a3cab985-425b-402b-95c4-bd2f95cf726c": {
       "attrs": {
        "height": 0.8,
        "width": 0.8,
        "x": 0.1,
        "y": 0.1
       },
       "content": {
        "cell": "8d815ef8-050d-4098-999e-d249e112e874",
        "part": "whole"
       },
       "id": "a3cab985-425b-402b-95c4-bd2f95cf726c"
      }
     }
    },
    "364465c2-d051-4624-934b-0a52f20b11e4": {
     "id": "364465c2-d051-4624-934b-0a52f20b11e4",
     "prev": "04839a1a-1376-47b4-b035-7c0cb43b7aa3",
     "regions": {
      "03505a4a-4380-4e64-8545-2bac8c075863": {
       "attrs": {
        "height": 0.8,
        "width": 0.8,
        "x": 0.1,
        "y": 0.1
       },
       "content": {
        "cell": "35f46376-7fa2-4154-a35a-add8a69d0da5",
        "part": "whole"
       },
       "id": "03505a4a-4380-4e64-8545-2bac8c075863"
      }
     }
    },
    "431a1624-5d31-4452-b1c0-93b4eab60e27": {
     "id": "431a1624-5d31-4452-b1c0-93b4eab60e27",
     "prev": "ed2cf92a-b039-45e4-9e3d-94d3509969bd",
     "regions": {
      "cc65aabf-afb2-4a84-aa1c-34eea8532113": {
       "attrs": {
        "height": 0.8,
        "width": 0.8,
        "x": 0.1,
        "y": 0.1
       },
       "content": {
        "cell": "37abf60d-8d95-40a2-b3b5-d48b47e8ed8e",
        "part": "whole"
       },
       "id": "cc65aabf-afb2-4a84-aa1c-34eea8532113"
      }
     }
    },
    "5d58a7ab-8825-45fb-bfe5-4e69d0d14340": {
     "id": "5d58a7ab-8825-45fb-bfe5-4e69d0d14340",
     "prev": "87219da2-4e2f-4b42-bd86-9e7d9a1a170b",
     "regions": {
      "ad6a28db-de8a-4b9a-9c5b-f1910d3773a4": {
       "attrs": {
        "height": 0.8,
        "width": 0.8,
        "x": 0.1,
        "y": 0.1
       },
       "content": {
        "cell": "52fc22a4-44ef-407e-a5a1-38d94c5af9f5",
        "part": "whole"
       },
       "id": "ad6a28db-de8a-4b9a-9c5b-f1910d3773a4"
      }
     }
    },
    "87219da2-4e2f-4b42-bd86-9e7d9a1a170b": {
     "id": "87219da2-4e2f-4b42-bd86-9e7d9a1a170b",
     "prev": "cdb293d0-8aa0-474e-b625-cf360274063e",
     "regions": {
      "23fa6284-67db-4d9c-a72c-b64afd29e20f": {
       "attrs": {
        "height": 0.8,
        "width": 0.8,
        "x": 0.1,
        "y": 0.1
       },
       "content": {
        "cell": "21125db1-7dde-4870-b8d4-54328d760be7",
        "part": "whole"
       },
       "id": "23fa6284-67db-4d9c-a72c-b64afd29e20f"
      }
     }
    },
    "9449c7ee-108d-4115-850c-1f9251416f04": {
     "id": "9449c7ee-108d-4115-850c-1f9251416f04",
     "prev": "5d58a7ab-8825-45fb-bfe5-4e69d0d14340",
     "regions": {
      "a46efa29-5dd4-4a71-bf2d-4950e86a1338": {
       "attrs": {
        "height": 0.8,
        "width": 0.8,
        "x": 0.1,
        "y": 0.1
       },
       "content": {
        "cell": "c7d1867f-d44d-4a1e-9bf6-d7cbfd13204f",
        "part": "whole"
       },
       "id": "a46efa29-5dd4-4a71-bf2d-4950e86a1338"
      }
     }
    },
    "c731d28c-1a2e-468e-a920-2ccfeed0b740": {
     "id": "c731d28c-1a2e-468e-a920-2ccfeed0b740",
     "prev": "9449c7ee-108d-4115-850c-1f9251416f04",
     "regions": {
      "e2d5aabd-ee0c-49ce-9ef7-82abdd573f3f": {
       "attrs": {
        "height": 0.8,
        "width": 0.8,
        "x": 0.1,
        "y": 0.1
       },
       "content": {
        "cell": "93cd345d-c9df-4b2a-9870-e3347cc95be3",
        "part": "whole"
       },
       "id": "e2d5aabd-ee0c-49ce-9ef7-82abdd573f3f"
      }
     }
    },
    "cdb293d0-8aa0-474e-b625-cf360274063e": {
     "id": "cdb293d0-8aa0-474e-b625-cf360274063e",
     "prev": "364465c2-d051-4624-934b-0a52f20b11e4",
     "regions": {
      "999915a3-557b-440f-8723-209014318687": {
       "attrs": {
        "height": 0.8,
        "width": 0.8,
        "x": 0.1,
        "y": 0.1
       },
       "content": {
        "cell": "93bd98db-bb18-45bd-8643-af7fc9503633",
        "part": "whole"
       },
       "id": "999915a3-557b-440f-8723-209014318687"
      }
     }
    },
    "ed2cf92a-b039-45e4-9e3d-94d3509969bd": {
     "id": "ed2cf92a-b039-45e4-9e3d-94d3509969bd",
     "prev": "2d0e7ffe-80f1-49c1-b0be-6aee39d6ad13",
     "regions": {
      "08bea48c-f2e1-4e80-9816-d8629bd5c999": {
       "attrs": {
        "height": 0.8,
        "width": 0.8,
        "x": 0.1,
        "y": 0.1
       },
       "content": {
        "cell": "3be4e86f-763e-484e-bece-db3521c970f5",
        "part": "whole"
       },
       "id": "08bea48c-f2e1-4e80-9816-d8629bd5c999"
      }
     }
    }
   },
   "themes": {}
  }
 },
 "nbformat": 4,
 "nbformat_minor": 0
}
