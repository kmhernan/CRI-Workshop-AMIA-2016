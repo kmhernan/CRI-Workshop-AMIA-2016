{
 "cells": [
  {
   "cell_type": "markdown",
   "metadata": {
    "nbpresent": {
     "id": "056e9852-929e-41f1-9a16-467772e60e56"
    }
   },
   "source": [
    "# 2016 AMIA: Introduction to ChIP-seq\n",
    "\n",
    "<center>Kyle Hernandez, Ph.D. khernandez at bsd.uchicago.edu</center>\n",
    "<center>Center for Research Informatics, University of Chicago</center>\n",
    "\n",
    "*This document briefly covers the basics of what ChIP-Seq is and the types of questions it can answer. It is by no means exhaustive. I provide some links and citations for you to read through on your own time if you are interested in more in-depth knowledge. In addition, there are some more in-depth notebooks available in the workshop_extended directory which you can go through on your own time.*"
   ]
  },
  {
   "cell_type": "markdown",
   "metadata": {
    "nbpresent": {
     "id": "4d2eb289-c3ec-4ba4-9c83-faf1217caf13"
    }
   },
   "source": [
    "## What is ChIP-seq?\n",
    "\n",
    "<img src=\"workshop_extended/assets/f01_chipseq_overview.jpg\" alt=\"Figure 01\" style=\"width: 400px; float: right;\"/>\n",
    "\n",
    "* **Ch**romatin **I**mmuno**P**recipitation followed by **seq**uencing\n",
    "* Sequencing of the genomic DNA fragments that co-precipitate with the protein of interest using high-throughput sequencing technologies\n",
    "* Detect epigenetic changes\n",
    "    * A \"discovery\" tool\n",
    "    * Genome-wide"
   ]
  },
  {
   "cell_type": "markdown",
   "metadata": {
    "nbpresent": {
     "id": "0814940f-48b1-40ba-a6f4-dea8731dfc56"
    }
   },
   "source": [
    "## There are different types of ChIP-seq\n",
    "\n",
    "| Protein of interest | Enriched genomic DNA fragments |\n",
    "| ------------------- | ------------------------------ |\n",
    "| Transcription factors | Promoter, enhancer, silencer, insulator, other cis elements |\n",
    "| RNA polymerase | Regions under active transcription |\n",
    "| DNA polymerase | Regions under replication |\n",
    "| Modified histones | Chromatin modification |\n",
    "\n",
    "<center>...and more! We will focus on **transcription factors** in these sessions.</center>"
   ]
  },
  {
   "cell_type": "markdown",
   "metadata": {
    "nbpresent": {
     "id": "b723bd77-9243-4a0b-9513-263bfaa3a077"
    }
   },
   "source": [
    "## What can we learn from ChIP-seq?\n",
    "\n",
    "* Location\n",
    "    * Where does my protein of interest bind?\n",
    "* Quantification\n",
    "    * How strong is the signal?\n",
    "* Annotation\n",
    "    * Which type of sequence motif is enriched/present in the peaks? _(We won't have time to go over motif analysis, but the [MEME suite](http://meme-suite.org/) is a great set of tools)_\n",
    "    * What are the target genes?\n",
    "    * Which network/pathways are my target genes enriched?"
   ]
  },
  {
   "cell_type": "markdown",
   "metadata": {
    "nbpresent": {
     "id": "536027a7-3052-4ef9-8d60-766aed55c01f"
    }
   },
   "source": [
    "## What we can't learn from ChIP-seq\n",
    "\n",
    "* Gene expression changes (RNAseq)\n",
    "* DNA sequence changes (WES, WGS, target amplicon sequencing)\n",
    "* DNA methylation changes (MeDIPseq, bisulfite sequencing)\n",
    "* RNA-protein interaction (CLIPseq)"
   ]
  },
  {
   "cell_type": "markdown",
   "metadata": {
    "nbpresent": {
     "id": "b9f38a9a-632e-4ca3-888a-30f3d10cf422"
    }
   },
   "source": [
    "## Overview of a ChIP-seq experiment\n",
    "\n",
    "<img src=\"workshop_extended/assets/f02_chipseq_experiment.png\" alt=\"Figure 02\" width=\"800px\" style=\"float: right;\"/>\n",
    "* Cross-link proteins to DNA (usually with formaldehyde)\n",
    "* Cell disruption and sonication to shear the chromatin to a target size (100-300bp)\n",
    "* Protein of interest and its bound DNA is enriched by purification with an antibody\n",
    "* Next-generation sequencing\n",
    "* Identify putatively enriched genomic regions"
   ]
  },
  {
   "cell_type": "markdown",
   "metadata": {
    "nbpresent": {
     "id": "130b0b02-128f-4121-97eb-c1768fb16007"
    }
   },
   "source": [
    "## Experimental design\n",
    "\n",
    "* Antibody quality is important\n",
    "    * Finding a _sensitive_ and _specific_ antibody to protein of interest is most crucial and challenging\n",
    "    * 20-35% of commercial \"ChIP-grade\" antibodies unusable ([modENCODE](http://www.modencode.org/))\n",
    "    * Check your antibody ahead if possible (e.g., Western blot)\n",
    "    * Antibody list from ENCODE: https://www.encodeproject.org/search/?type=AntibodyLot"
   ]
  },
  {
   "cell_type": "markdown",
   "metadata": {
    "nbpresent": {
     "id": "c1fc7ec0-06d8-48df-85ea-8c76d2575ae9"
    }
   },
   "source": [
    "## Experimental design\n",
    "\n",
    "* You should use control samples to control for background noise\n",
    "    * \"input\" - crosslinking + fragmentation, but no IP genomic DNA; _most commonly used control_\n",
    "    * \"Mock IP\" - DNA obtained with a control antibody that reacts with an irrelevant, non-nuclear antigen (e.g., IgG); crosslinking + fragmentation + IP with IgG antibody\n",
    "* You should use biological replicates\n",
    "    * Recommend at least 2 biological replicates\n",
    "    * Used to establish biological variability\n",
    "    * Reduces false positives (more power)"
   ]
  },
  {
   "cell_type": "markdown",
   "metadata": {
    "nbpresent": {
     "id": "6ccb7363-5f8f-4b80-bbce-3af0f1f04bd1"
    }
   },
   "source": [
    "## Experimental design\n",
    "\n",
    "* The million dollar question: How many reads do I need?\n",
    "    * Transcription factors (sharp peaks)\n",
    "        * 20+ million reads per sample\n",
    "        * 40+ million per condition with 2 replicates\n",
    "        * 150 milion reads per Illumina HiSeq lane\n",
    "    * Try and keep similar sequencing depths between different IP experiments and between IP and INPUT"
   ]
  },
  {
   "cell_type": "markdown",
   "metadata": {
    "nbpresent": {
     "id": "31cabe79-6246-4acc-bc64-f9d61f399e50"
    }
   },
   "source": [
    "## A must read for ChIP-Seq projects\n",
    "\n",
    "<center><blockquote>Landt et al., 2012. Genome Research 22:1813-1831</blockquote></center>\n",
    "\n",
    "<img src=\"workshop_extended/assets/f03_chipseq_encode_paper.png\" alt=\"Figure 03\" width=\"800px\" style=\"float: center;\"/>"
   ]
  },
  {
   "cell_type": "markdown",
   "metadata": {
    "nbpresent": {
     "id": "e467cbae-d4b3-4f60-b70f-eb035ddd526d"
    }
   },
   "source": [
    "# 2016 AMIA: Analysis ChIP-seq\n",
    "\n",
    "<center>Kyle Hernandez, Ph.D. khernandez at bsd.uchicago.edu</center>\n",
    "<center>Center for Research Informatics, University of Chicago</center>\n",
    "\n",
    "_So far we have introduced the concept of ChIP-Seq and discussed important experimental design aspects. Here, we will focus on a subset of the analytical steps after receiving your ChIP-Seq data from the sequencing facility._"
   ]
  },
  {
   "cell_type": "markdown",
   "metadata": {
    "collapsed": true,
    "nbpresent": {
     "id": "94851751-6374-473c-b753-b0b41ec88063"
    }
   },
   "source": [
    "## File formats\n",
    "\n",
    "We do not have time to discuss file formats; however, we have provided a document (`workshop_extended/2016-AMIA-Workshop-Common-Formats`) which goes into more details. The most commonly used file formats in ChIP-seq analyses are:\n",
    "\n",
    "* [fastq](https://en.wikipedia.org/wiki/FASTQ_format) - sequence data\n",
    "* [fasta](https://en.wikipedia.org/wiki/FASTA_format) - sequence data\n",
    "* [SAM/BAM](http://samtools.github.io/hts-specs/SAMv1.pdf) - alignment data\n",
    "* [bed](https://genome.ucsc.edu/FAQ/FAQformat#format1) - peak data\n",
    "* [narrowPeak](https://genome.ucsc.edu/FAQ/FAQformat#format12) - peak data\n",
    "* [bigWig](https://genome.ucsc.edu/FAQ/FAQformat#format6.1) - normalized enrichment data"
   ]
  },
  {
   "cell_type": "markdown",
   "metadata": {
    "nbpresent": {
     "id": "6c640c5e-6124-4847-b58b-fd76dd70ade0"
    }
   },
   "source": [
    "## Basic ChIP-Seq Workflow\n",
    "\n",
    "<img src=\"workshop_extended/assets/f04_chipseq_basic_workflow.png\" alt=\"Figure 01\" width=\"850px\" style=\"float: right;\"/>\n",
    "* Starts with your sequencing data (in fastq format)\n",
    "* Focus only on peak calling and ChIP-Seq quality statistics\n",
    "* Hands-on session that covers the annotation module\n",
    "* There is more information available in the extended documents available in the github repository."
   ]
  },
  {
   "cell_type": "markdown",
   "metadata": {
    "nbpresent": {
     "id": "74826544-69b1-4315-a3ac-d7b8f1cca9d1"
    }
   },
   "source": [
    "## Peak calling\n",
    "\n",
    "**<center>Goal: detect regions (peaks) of enrichment in our IP samples</center>**\n",
    "\n",
    "* At this point in the workflow we have a set of reads aligned to our reference genome (BAM format)\n",
    "* In simple terms, peak calling software searches for regions in the genome with a greater than expected number of alignments (\"sequencing tags\") compared to the \"background noise\".\n",
    "* A control sample (e.g., IgG, or input) helps with modelling the \"noise\" and greatly reduce the number of false positives."
   ]
  },
  {
   "cell_type": "markdown",
   "metadata": {
    "nbpresent": {
     "id": "00290827-8f30-4c84-b71b-427b2b89828c"
    }
   },
   "source": [
    "## What does the ChIP-seq signal look like?\n",
    "\n",
    "<img src=\"workshop_extended/assets/f06_chipseq_tag_shift.png\" width=\"450px\" alt=\"Figure 03\" style=\"float: left;\"/>\n",
    "* Enriched sequence tags cluster at locations bound by the <span style=\"color:#FF8C00\">protein of interest</span> (e.g., transcription factor)\n",
    "* Sequencing tags accumulate on both the <span style=\"color:#B22222\">forward</span> and <span style=\"color:#6495ED\">reverse</span> strands centered around the binding site. That is to say, the tags are _shifted_ away from the center.\n",
    "* The distance (shift) from the center depends on the _fragment size_ of your sequencing library\n",
    "* The input control sequences lack this pattern of shifted stranded sequence tag"
   ]
  },
  {
   "cell_type": "markdown",
   "metadata": {
    "nbpresent": {
     "id": "c2526bb9-8f86-4e01-ae64-87aa5745e33a"
    }
   },
   "source": [
    "## ChIP-Seq quality control\n",
    "\n",
    "The are several metrics and tools out there for determing the quality of your ChIP-Seq experiment (see \n",
    "[ENCODE guidelines](https://www.ncbi.nlm.nih.gov/pmc/articles/PMC3431496/)); however, we will only touch \n",
    "on two metrics:\n",
    "\n",
    "1. Relative strand correlation (RSC)\n",
    "2. Fraction of reads falling within peak regions (FRiP)\n"
   ]
  },
  {
   "cell_type": "markdown",
   "metadata": {
    "nbpresent": {
     "id": "d2a4e3ab-abcb-4787-8313-29d77752aab6"
    }
   },
   "source": [
    "## RSC scores\n",
    "\n",
    "<img src=\"workshop_extended/assets/f11_shift.png\" width=\"450px\" alt=\"Figure 04\" style=\"float: left;\"/>\n",
    "* Quantify the sequencing tag clustering (IP enrichment) genome-wide\n",
    "* Pearson correlation of sequence tag densities between the strands after shifting by _k_ base pairs"
   ]
  },
  {
   "cell_type": "markdown",
   "metadata": {
    "nbpresent": {
     "id": "a160f9af-6dee-490e-8931-eaa8731b287c"
    }
   },
   "source": [
    "## RSC scores\n",
    "<img src=\"workshop_extended/assets/f07_chipseq_cc_plots.png\" alt=\"Figure 04\" width=\"1000px\" style=\"float: center;\"/>\n",
    "* Two peaks are produced when cross-correlation is plotted against the shift value:\n",
    "    1. A peak of enrichment corresponding to predominant fragment length\n",
    "    2. Peak corresponding to the read length (called a \"phantom\" peak) \n",
    "* The ratio between the fragment-length peak and the read-length peak is the RSC"
   ]
  },
  {
   "cell_type": "markdown",
   "metadata": {
    "nbpresent": {
     "id": "76e02e2f-8479-46fa-9df9-42b22368d565"
    }
   },
   "source": [
    "## RSC scores\n",
    "<img src=\"workshop_extended/assets/f07_chipseq_cc_plots.png\" alt=\"Figure 04\" width=\"1200px\" style=\"float: center;\"/>\n",
    "\n",
    "* A good estimate for the signal-to-noise ratio in ChIP-seq experiments\n",
    "* High-quality ChIP-seq datasets tend to have a **larger** fragment-length peak compared with the read-length peak\n",
    "* ENCODE guidelines suggest that you **repeat samples with RSC values less than 0.8**"
   ]
  },
  {
   "cell_type": "markdown",
   "metadata": {
    "nbpresent": {
     "id": "a2634885-9718-4b83-8f0e-75fc3062c250"
    }
   },
   "source": [
    "## FRiP\n",
    "\n",
    "* Fraction of your mapped reads that fall into peak regions identified by a peak-calling algorithm\n",
    "* Rough metric for estimating the global enrichment of ChIP-seq data\n",
    "* Even in highly enriched ChIP-seq experiments, only a minority of reads occur in peaks (the majority are background)\n",
    "* ENCODE has shown that FRiP values correlate positively and linearly with RSC\n",
    "* ENCODE guidelines suggest that you **repeat experiments with FRiP values below 1%**\n",
    "\n",
    "**NOTE: In the session questions, we accidentally provided really high FRiP estimates and those values will probably never be seen in your experiments**"
   ]
  }
 ],
 "metadata": {
  "kernelspec": {
   "display_name": "Python [default]",
   "language": "python",
   "name": "python2"
  },
  "language_info": {
   "codemirror_mode": {
    "name": "ipython",
    "version": 2
   },
   "file_extension": ".py",
   "mimetype": "text/x-python",
   "name": "python",
   "nbconvert_exporter": "python",
   "pygments_lexer": "ipython2",
   "version": "2.7.12"
  },
  "nbpresent": {
   "slides": {
    "04646092-4ada-4751-8bc5-6675dd268af4": {
     "id": "04646092-4ada-4751-8bc5-6675dd268af4",
     "prev": "e70fd50f-a5b6-4922-bbf2-41edd4244597",
     "regions": {
      "e23de40f-546f-4e9e-a628-2548077bb682": {
       "attrs": {
        "height": 0.8,
        "width": 0.8,
        "x": 0.1,
        "y": 0.1
       },
       "content": {
        "cell": "00290827-8f30-4c84-b71b-427b2b89828c",
        "part": "whole"
       },
       "id": "e23de40f-546f-4e9e-a628-2548077bb682"
      }
     }
    },
    "10cf4166-ca62-4da2-8889-585c2aa279f0": {
     "id": "10cf4166-ca62-4da2-8889-585c2aa279f0",
     "prev": "80723955-20ba-4a9c-be27-291c8ff85a93",
     "regions": {
      "ce1ad1de-8d6a-4fcd-8076-eceb833376cf": {
       "attrs": {
        "height": 0.8,
        "width": 0.8,
        "x": 0.1,
        "y": 0.1
       },
       "content": {
        "cell": "130b0b02-128f-4121-97eb-c1768fb16007",
        "part": "whole"
       },
       "id": "ce1ad1de-8d6a-4fcd-8076-eceb833376cf"
      }
     }
    },
    "1c86f9b1-ecd1-4a45-8549-a734e293acea": {
     "id": "1c86f9b1-ecd1-4a45-8549-a734e293acea",
     "prev": "04646092-4ada-4751-8bc5-6675dd268af4",
     "regions": {
      "cd1de208-6080-4506-8828-be26b18cc7b6": {
       "attrs": {
        "height": 0.8,
        "width": 0.8,
        "x": 0.1,
        "y": 0.1
       },
       "content": {
        "cell": "c2526bb9-8f86-4e01-ae64-87aa5745e33a",
        "part": "whole"
       },
       "id": "cd1de208-6080-4506-8828-be26b18cc7b6"
      }
     }
    },
    "1e9df5ab-ad74-49e1-8f8e-5cf106ac4bb4": {
     "id": "1e9df5ab-ad74-49e1-8f8e-5cf106ac4bb4",
     "prev": "f938f3f3-8f15-4a46-ba7b-1e8c158fff62",
     "regions": {
      "626ff47e-4af6-4694-ad05-b963e2063d52": {
       "attrs": {
        "height": 0.8,
        "width": 0.8,
        "x": 0.1,
        "y": 0.1
       },
       "content": {
        "cell": "b723bd77-9243-4a0b-9513-263bfaa3a077",
        "part": "whole"
       },
       "id": "626ff47e-4af6-4694-ad05-b963e2063d52"
      }
     }
    },
    "3ac8d85a-6f96-4deb-bae6-c94f1c639168": {
     "id": "3ac8d85a-6f96-4deb-bae6-c94f1c639168",
     "prev": "c315857d-a9c4-474a-b006-580ef6142b46",
     "regions": {
      "94841450-7b0d-49f7-ad3c-a036aa63e430": {
       "attrs": {
        "height": 0.8,
        "width": 0.8,
        "x": 0.1,
        "y": 0.1
       },
       "content": {
        "cell": "6c640c5e-6124-4847-b58b-fd76dd70ade0",
        "part": "whole"
       },
       "id": "94841450-7b0d-49f7-ad3c-a036aa63e430"
      }
     }
    },
    "3b0d6da7-d5b8-4e3c-ac35-d593c216afde": {
     "id": "3b0d6da7-d5b8-4e3c-ac35-d593c216afde",
     "prev": "bc7f3fb1-2d77-4646-b262-649730cad155",
     "regions": {
      "3d01d6c0-1df7-4783-97f7-8bfb7fbfb2d9": {
       "attrs": {
        "height": 0.8,
        "width": 0.8,
        "x": 0.1,
        "y": 0.1
       },
       "content": {
        "cell": "a2634885-9718-4b83-8f0e-75fc3062c250",
        "part": "whole"
       },
       "id": "3d01d6c0-1df7-4783-97f7-8bfb7fbfb2d9"
      }
     }
    },
    "62630f4d-ca68-4b23-8fba-3f5405bd5b0f": {
     "id": "62630f4d-ca68-4b23-8fba-3f5405bd5b0f",
     "prev": null,
     "regions": {
      "737958ce-d6b1-4aa5-9a33-ea25e5932a1b": {
       "attrs": {
        "height": 0.8,
        "width": 0.8,
        "x": 0.1,
        "y": 0.1
       },
       "content": {
        "cell": "056e9852-929e-41f1-9a16-467772e60e56",
        "part": "whole"
       },
       "id": "737958ce-d6b1-4aa5-9a33-ea25e5932a1b"
      }
     }
    },
    "79fea5d9-7271-49b8-b92e-47e56ab3da6d": {
     "id": "79fea5d9-7271-49b8-b92e-47e56ab3da6d",
     "prev": "62630f4d-ca68-4b23-8fba-3f5405bd5b0f",
     "regions": {
      "b8e61bf2-51e2-4088-bf2f-77760b931fc4": {
       "attrs": {
        "height": 0.8,
        "width": 0.8,
        "x": 0.1,
        "y": 0.1
       },
       "content": {
        "cell": "4d2eb289-c3ec-4ba4-9c83-faf1217caf13",
        "part": "whole"
       },
       "id": "b8e61bf2-51e2-4088-bf2f-77760b931fc4"
      }
     }
    },
    "7af5e430-f682-4211-895d-1ed28558475d": {
     "id": "7af5e430-f682-4211-895d-1ed28558475d",
     "prev": "1c86f9b1-ecd1-4a45-8549-a734e293acea",
     "regions": {
      "52e4bde0-95d8-4771-bd98-d8e8330e8763": {
       "attrs": {
        "height": 0.8,
        "width": 0.8,
        "x": 0.1,
        "y": 0.1
       },
       "content": {
        "cell": "d2a4e3ab-abcb-4787-8313-29d77752aab6",
        "part": "whole"
       },
       "id": "52e4bde0-95d8-4771-bd98-d8e8330e8763"
      }
     }
    },
    "80723955-20ba-4a9c-be27-291c8ff85a93": {
     "id": "80723955-20ba-4a9c-be27-291c8ff85a93",
     "prev": "c0014bad-8322-4c7f-8968-27760ec8e298",
     "regions": {
      "efbc9a14-8a0e-4da5-a4e7-5cb2104ed8c4": {
       "attrs": {
        "height": 0.8,
        "width": 0.8,
        "x": 0.1,
        "y": 0.1
       },
       "content": {
        "cell": "b9f38a9a-632e-4ca3-888a-30f3d10cf422",
        "part": "whole"
       },
       "id": "efbc9a14-8a0e-4da5-a4e7-5cb2104ed8c4"
      }
     }
    },
    "925dfe13-94b8-41fa-92cd-3ee70691b230": {
     "id": "925dfe13-94b8-41fa-92cd-3ee70691b230",
     "prev": "ff4b950b-19e7-4e97-8173-a16f1a415a6b",
     "regions": {
      "b476f8e8-223a-4d62-9fc2-cbc2d20b3bfa": {
       "attrs": {
        "height": 0.8,
        "width": 0.8,
        "x": 0.1,
        "y": 0.1
       },
       "content": {
        "cell": "6ccb7363-5f8f-4b80-bbce-3af0f1f04bd1",
        "part": "whole"
       },
       "id": "b476f8e8-223a-4d62-9fc2-cbc2d20b3bfa"
      }
     }
    },
    "949adc94-a279-42cd-aa84-b2eff994a035": {
     "id": "949adc94-a279-42cd-aa84-b2eff994a035",
     "prev": "7af5e430-f682-4211-895d-1ed28558475d",
     "regions": {
      "0495dfe1-f252-4c06-af0e-23b127d49b76": {
       "attrs": {
        "height": 0.8,
        "width": 0.8,
        "x": 0.1,
        "y": 0.1
       },
       "content": {
        "cell": "a160f9af-6dee-490e-8931-eaa8731b287c",
        "part": "whole"
       },
       "id": "0495dfe1-f252-4c06-af0e-23b127d49b76"
      }
     }
    },
    "bc7f3fb1-2d77-4646-b262-649730cad155": {
     "id": "bc7f3fb1-2d77-4646-b262-649730cad155",
     "prev": "949adc94-a279-42cd-aa84-b2eff994a035",
     "regions": {
      "c7aac0fa-8fe0-474f-81dd-53326494269b": {
       "attrs": {
        "height": 0.8,
        "width": 0.8,
        "x": 0.1,
        "y": 0.1
       },
       "content": {
        "cell": "76e02e2f-8479-46fa-9df9-42b22368d565",
        "part": "whole"
       },
       "id": "c7aac0fa-8fe0-474f-81dd-53326494269b"
      }
     }
    },
    "bf3039f2-e737-4878-b302-77419091539d": {
     "id": "bf3039f2-e737-4878-b302-77419091539d",
     "prev": "925dfe13-94b8-41fa-92cd-3ee70691b230",
     "regions": {
      "779ab3d1-e89c-4020-98a3-9c9ac912bf47": {
       "attrs": {
        "height": 0.8,
        "width": 0.8,
        "x": 0.1,
        "y": 0.1
       },
       "content": {
        "cell": "31cabe79-6246-4acc-bc64-f9d61f399e50",
        "part": "whole"
       },
       "id": "779ab3d1-e89c-4020-98a3-9c9ac912bf47"
      }
     }
    },
    "c0014bad-8322-4c7f-8968-27760ec8e298": {
     "id": "c0014bad-8322-4c7f-8968-27760ec8e298",
     "prev": "1e9df5ab-ad74-49e1-8f8e-5cf106ac4bb4",
     "regions": {
      "544bda4b-ceab-4325-9aad-c2004a5bd928": {
       "attrs": {
        "height": 0.8,
        "width": 0.8,
        "x": 0.1,
        "y": 0.1
       },
       "content": {
        "cell": "536027a7-3052-4ef9-8d60-766aed55c01f",
        "part": "whole"
       },
       "id": "544bda4b-ceab-4325-9aad-c2004a5bd928"
      }
     }
    },
    "c315857d-a9c4-474a-b006-580ef6142b46": {
     "id": "c315857d-a9c4-474a-b006-580ef6142b46",
     "prev": "c3c1ce81-4b09-4a81-8aba-cd823035acf2",
     "regions": {
      "465cce37-c47b-4e2f-b179-7655e5ecf741": {
       "attrs": {
        "height": 0.8,
        "width": 0.8,
        "x": 0.1,
        "y": 0.1
       },
       "content": {
        "cell": "94851751-6374-473c-b753-b0b41ec88063",
        "part": "whole"
       },
       "id": "465cce37-c47b-4e2f-b179-7655e5ecf741"
      }
     }
    },
    "c3c1ce81-4b09-4a81-8aba-cd823035acf2": {
     "id": "c3c1ce81-4b09-4a81-8aba-cd823035acf2",
     "prev": "bf3039f2-e737-4878-b302-77419091539d",
     "regions": {
      "58719021-0859-4dbf-a50e-4a60ed8879af": {
       "attrs": {
        "height": 0.8,
        "width": 0.8,
        "x": 0.1,
        "y": 0.1
       },
       "content": {
        "cell": "e467cbae-d4b3-4f60-b70f-eb035ddd526d",
        "part": "whole"
       },
       "id": "58719021-0859-4dbf-a50e-4a60ed8879af"
      }
     }
    },
    "e70fd50f-a5b6-4922-bbf2-41edd4244597": {
     "id": "e70fd50f-a5b6-4922-bbf2-41edd4244597",
     "prev": "3ac8d85a-6f96-4deb-bae6-c94f1c639168",
     "regions": {
      "3f17e7d0-8e19-4b64-9811-3024e12e5b2e": {
       "attrs": {
        "height": 0.8,
        "width": 0.8,
        "x": 0.1,
        "y": 0.1
       },
       "content": {
        "cell": "74826544-69b1-4315-a3ac-d7b8f1cca9d1",
        "part": "whole"
       },
       "id": "3f17e7d0-8e19-4b64-9811-3024e12e5b2e"
      }
     }
    },
    "f938f3f3-8f15-4a46-ba7b-1e8c158fff62": {
     "id": "f938f3f3-8f15-4a46-ba7b-1e8c158fff62",
     "prev": "79fea5d9-7271-49b8-b92e-47e56ab3da6d",
     "regions": {
      "28b8cefb-b056-4e55-b098-103603e8b17c": {
       "attrs": {
        "height": 0.8,
        "width": 0.8,
        "x": 0.1,
        "y": 0.1
       },
       "content": {
        "cell": "0814940f-48b1-40ba-a6f4-dea8731dfc56",
        "part": "whole"
       },
       "id": "28b8cefb-b056-4e55-b098-103603e8b17c"
      }
     }
    },
    "ff4b950b-19e7-4e97-8173-a16f1a415a6b": {
     "id": "ff4b950b-19e7-4e97-8173-a16f1a415a6b",
     "prev": "10cf4166-ca62-4da2-8889-585c2aa279f0",
     "regions": {
      "ab74a4f4-abf7-43a6-870f-ab8bfe4f08ea": {
       "attrs": {
        "height": 0.8,
        "width": 0.8,
        "x": 0.1,
        "y": 0.1
       },
       "content": {
        "cell": "c1fc7ec0-06d8-48df-85ea-8c76d2575ae9",
        "part": "whole"
       },
       "id": "ab74a4f4-abf7-43a6-870f-ab8bfe4f08ea"
      }
     }
    }
   },
   "themes": {
    "default": "607d1e6c-d7e3-4bc6-a28c-2ccdb84084d1",
    "theme": {
     "607d1e6c-d7e3-4bc6-a28c-2ccdb84084d1": {
      "id": "607d1e6c-d7e3-4bc6-a28c-2ccdb84084d1",
      "palette": {
       "19cc588f-0593-49c9-9f4b-e4d7cc113b1c": {
        "id": "19cc588f-0593-49c9-9f4b-e4d7cc113b1c",
        "rgb": [
         252,
         252,
         252
        ]
       },
       "31af15d2-7e15-44c5-ab5e-e04b16a89eff": {
        "id": "31af15d2-7e15-44c5-ab5e-e04b16a89eff",
        "rgb": [
         68,
         68,
         68
        ]
       },
       "50f92c45-a630-455b-aec3-788680ec7410": {
        "id": "50f92c45-a630-455b-aec3-788680ec7410",
        "rgb": [
         155,
         177,
         192
        ]
       },
       "c5cc3653-2ee1-402a-aba2-7caae1da4f6c": {
        "id": "c5cc3653-2ee1-402a-aba2-7caae1da4f6c",
        "rgb": [
         43,
         126,
         184
        ]
       },
       "efa7f048-9acb-414c-8b04-a26811511a21": {
        "id": "efa7f048-9acb-414c-8b04-a26811511a21",
        "rgb": [
         25.118061674008803,
         73.60176211453744,
         107.4819383259912
        ]
       }
      },
      "rules": {
       "blockquote": {
        "color": "50f92c45-a630-455b-aec3-788680ec7410"
       },
       "code": {
        "font-family": "Anonymous Pro"
       },
       "h1": {
        "color": "c5cc3653-2ee1-402a-aba2-7caae1da4f6c",
        "font-family": "Lato",
        "font-size": 8
       },
       "h2": {
        "color": "c5cc3653-2ee1-402a-aba2-7caae1da4f6c",
        "font-family": "Lato",
        "font-size": 6
       },
       "h3": {
        "color": "50f92c45-a630-455b-aec3-788680ec7410",
        "font-family": "Lato",
        "font-size": 5.5
       },
       "h4": {
        "color": "c5cc3653-2ee1-402a-aba2-7caae1da4f6c",
        "font-family": "Lato",
        "font-size": 5
       },
       "h5": {
        "font-family": "Lato"
       },
       "h6": {
        "font-family": "Lato"
       },
       "h7": {
        "font-family": "Lato"
       },
       "pre": {
        "font-family": "Anonymous Pro",
        "font-size": 4
       }
      },
      "text-base": {
       "font-family": "Merriweather",
       "font-size": 4
      }
     }
    }
   }
  }
 },
 "nbformat": 4,
 "nbformat_minor": 0
}
