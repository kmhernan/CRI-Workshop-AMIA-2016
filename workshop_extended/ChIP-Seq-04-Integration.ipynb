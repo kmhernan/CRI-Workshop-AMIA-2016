{
 "cells": [
  {
   "cell_type": "markdown",
   "metadata": {},
   "source": [
    "License: LGPLv3\n",
    "\n",
    "# ChIP-Seq and RNA-Seq Integration\n",
    "\n",
    "## Linking RNA-Seq results with ChIP-Seq results\n",
    "\n",
    "Now that we have gone over the basics of RNA-Seq and ChIP-Seq, we will try to \"integrate\" the two datasets. \n",
    "To do this, I first intersected the Ab1 and RNAPII peaks to get the overlapping ones which I will use for this\n",
    "analysis. There are several ways to do this, but I chose to use `bedtools intersect`. We can go ahead and read in\n",
    "the peaks using the same method as before:"
   ]
  },
  {
   "cell_type": "code",
   "execution_count": 1,
   "metadata": {
    "collapsed": false
   },
   "outputs": [
    {
     "data": {
      "text/plain": [
       "GRanges object with 6 ranges and 7 metadata columns:\n",
       "      seqnames             ranges strand |                  V4        V5\n",
       "         <Rle>          <IRanges>  <Rle> |            <factor> <integer>\n",
       "  [1]    chr10 [1489238, 1489661]      * | Ab1.input_peak_2215        51\n",
       "  [2]    chr10 [3172410, 3172896]      * | Ab1.input_peak_2231       109\n",
       "  [3]    chr10 [5665920, 5666392]      * | Ab1.input_peak_2242       324\n",
       "  [4]    chr10 [5684424, 5684866]      * | Ab1.input_peak_2243       593\n",
       "  [5]    chr10 [5775761, 5776080]      * | Ab1.input_peak_2245       125\n",
       "  [6]    chr10 [5977538, 5978102]      * | Ab1.input_peak_2251        92\n",
       "            V6        V7        V8        V9       V10\n",
       "      <factor> <numeric> <numeric> <numeric> <integer>\n",
       "  [1]        .   4.06589   7.85770   5.11926       275\n",
       "  [2]        .   5.36279  14.11020  10.98270       354\n",
       "  [3]        .  12.79724  36.38798  32.48447       313\n",
       "  [4]        .  19.03980  63.71320  59.39371       222\n",
       "  [5]        .   5.73264  15.79484  12.57484       121\n",
       "  [6]        .   6.88479  12.31191   9.28475       408\n",
       "  -------\n",
       "  seqinfo: 23 sequences from an unspecified genome; no seqlengths"
      ]
     },
     "metadata": {},
     "output_type": "display_data"
    }
   ],
   "source": [
    "# Load the libraries\n",
    "# These will need to be installed already\n",
    "suppressMessages(require(ChIPseeker))\n",
    "suppressMessages(require(TxDb.Hsapiens.UCSC.hg38.knownGene))\n",
    "txdb <- TxDb.Hsapiens.UCSC.hg38.knownGene\n",
    "\n",
    "# Load in the overlapping peaks\n",
    "idir <- \"/home/ubuntu/data/chipseq/fullset\"\n",
    "chip.peaks <- readPeakFile(file.path(idir, \"peaks\", \"Ab1_RNAPII.overlapped.filtered.intersected.narrowPeak\"), \n",
    "                           header=FALSE)\n",
    "\n",
    "# Peek at the data\n",
    "head(chip.peaks)"
   ]
  },
  {
   "cell_type": "markdown",
   "metadata": {},
   "source": [
    "Next, I will annotate the peaks. To save time, I have already done this, and we can simply load the Rdataset:"
   ]
  },
  {
   "cell_type": "code",
   "execution_count": 2,
   "metadata": {
    "collapsed": false
   },
   "outputs": [
    {
     "data": {
      "text/html": [
       "<table>\n",
       "<thead><tr><th scope=col>seqnames</th><th scope=col>start</th><th scope=col>end</th><th scope=col>width</th><th scope=col>strand</th><th scope=col>V4</th><th scope=col>V5</th><th scope=col>V6</th><th scope=col>V7</th><th scope=col>V8</th><th scope=col>⋯</th><th scope=col>geneStart</th><th scope=col>geneEnd</th><th scope=col>geneLength</th><th scope=col>geneStrand</th><th scope=col>geneId</th><th scope=col>transcriptId</th><th scope=col>distanceToTSS</th><th scope=col>ENSEMBL</th><th scope=col>SYMBOL</th><th scope=col>GENENAME</th></tr></thead>\n",
       "<tbody>\n",
       "\t<tr><td>chr10                                       </td><td>1489238                                     </td><td>1489661                                     </td><td>424                                         </td><td>*                                           </td><td>Ab1.input_peak_2215                         </td><td> 51                                         </td><td>.                                           </td><td> 4.06589                                    </td><td> 7.85770                                    </td><td>⋯                                           </td><td>1526630                                     </td><td>1556984                                     </td><td>30355                                       </td><td>1                                           </td><td>642394                                      </td><td>uc001ign.3                                  </td><td>-36969                                      </td><td>ENSG00000205696                             </td><td>ADARB2-AS1                                  </td><td>ADARB2 antisense RNA 1                      </td></tr>\n",
       "\t<tr><td>chr10                                       </td><td>3172410                                     </td><td>3172896                                     </td><td>487                                         </td><td>*                                           </td><td>Ab1.input_peak_2231                         </td><td>109                                         </td><td>.                                           </td><td> 5.36279                                    </td><td>14.11020                                    </td><td>⋯                                           </td><td>3136924                                     </td><td>3172841                                     </td><td>35918                                       </td><td>2                                           </td><td>10531                                       </td><td>uc001igr.2                                  </td><td>     0                                      </td><td>ENSG00000107959                             </td><td>PITRM1                                      </td><td>pitrilysin metallopeptidase 1               </td></tr>\n",
       "\t<tr><td>chr10                                       </td><td>5665920                                     </td><td>5666392                                     </td><td>473                                         </td><td>*                                           </td><td>Ab1.input_peak_2242                         </td><td>324                                         </td><td>.                                           </td><td>12.79724                                    </td><td>36.38798                                    </td><td>⋯                                           </td><td>5638857                                     </td><td>5666595                                     </td><td>27739                                       </td><td>2                                           </td><td>79754                                       </td><td>uc001iig.2                                  </td><td>   203                                      </td><td>ENSG00000196372                             </td><td>ASB13                                       </td><td>ankyrin repeat and SOCS box containing 13   </td></tr>\n",
       "\t<tr><td>chr10                                       </td><td>5684424                                     </td><td>5684866                                     </td><td>443                                         </td><td>*                                           </td><td>Ab1.input_peak_2243                         </td><td>593                                         </td><td>.                                           </td><td>19.03980                                    </td><td>63.71320                                    </td><td>⋯                                           </td><td>5684838                                     </td><td>5763740                                     </td><td>78903                                       </td><td>1                                           </td><td>54906                                       </td><td>uc001iij.3                                  </td><td>     0                                      </td><td>ENSG00000108021                             </td><td>FAM208B                                     </td><td>family with sequence similarity 208 member B</td></tr>\n",
       "\t<tr><td>chr10                                       </td><td>5775761                                     </td><td>5776080                                     </td><td>320                                         </td><td>*                                           </td><td>Ab1.input_peak_2245                         </td><td>125                                         </td><td>.                                           </td><td> 5.73264                                    </td><td>15.79484                                    </td><td>⋯                                           </td><td>5765223                                     </td><td>5813549                                     </td><td>48327                                       </td><td>2                                           </td><td>2665                                        </td><td>uc001iil.4                                  </td><td> 37469                                      </td><td>ENSG00000057608                             </td><td>GDI2                                        </td><td>GDP dissociation inhibitor 2                </td></tr>\n",
       "\t<tr><td>chr10                                       </td><td>5977538                                     </td><td>5978102                                     </td><td>565                                         </td><td>*                                           </td><td>Ab1.input_peak_2251                         </td><td> 92                                         </td><td>.                                           </td><td> 6.88479                                    </td><td>12.31191                                    </td><td>⋯                                           </td><td>5943894                                     </td><td>5977611                                     </td><td>33718                                       </td><td>2                                           </td><td>3601                                        </td><td>uc031vvx.1                                  </td><td>     0                                      </td><td>ENSG00000134470                             </td><td>IL15RA                                      </td><td>interleukin 15 receptor subunit alpha       </td></tr>\n",
       "</tbody>\n",
       "</table>\n"
      ],
      "text/latex": [
       "\\begin{tabular}{r|llllllllllllllllllllllll}\n",
       " seqnames & start & end & width & strand & V4 & V5 & V6 & V7 & V8 & ⋯ & geneStart & geneEnd & geneLength & geneStrand & geneId & transcriptId & distanceToTSS & ENSEMBL & SYMBOL & GENENAME\\\\\n",
       "\\hline\n",
       "\t chr10                                        & 1489238                                      & 1489661                                      & 424                                          & *                                            & Ab1.input\\_peak\\_2215                      &  51                                          & .                                            &  4.06589                                     &  7.85770                                     & ⋯                                            & 1526630                                      & 1556984                                      & 30355                                        & 1                                            & 642394                                       & uc001ign.3                                   & -36969                                       & ENSG00000205696                              & ADARB2-AS1                                   & ADARB2 antisense RNA 1                      \\\\\n",
       "\t chr10                                        & 3172410                                      & 3172896                                      & 487                                          & *                                            & Ab1.input\\_peak\\_2231                      & 109                                          & .                                            &  5.36279                                     & 14.11020                                     & ⋯                                            & 3136924                                      & 3172841                                      & 35918                                        & 2                                            & 10531                                        & uc001igr.2                                   &      0                                       & ENSG00000107959                              & PITRM1                                       & pitrilysin metallopeptidase 1               \\\\\n",
       "\t chr10                                        & 5665920                                      & 5666392                                      & 473                                          & *                                            & Ab1.input\\_peak\\_2242                      & 324                                          & .                                            & 12.79724                                     & 36.38798                                     & ⋯                                            & 5638857                                      & 5666595                                      & 27739                                        & 2                                            & 79754                                        & uc001iig.2                                   &    203                                       & ENSG00000196372                              & ASB13                                        & ankyrin repeat and SOCS box containing 13   \\\\\n",
       "\t chr10                                        & 5684424                                      & 5684866                                      & 443                                          & *                                            & Ab1.input\\_peak\\_2243                      & 593                                          & .                                            & 19.03980                                     & 63.71320                                     & ⋯                                            & 5684838                                      & 5763740                                      & 78903                                        & 1                                            & 54906                                        & uc001iij.3                                   &      0                                       & ENSG00000108021                              & FAM208B                                      & family with sequence similarity 208 member B\\\\\n",
       "\t chr10                                        & 5775761                                      & 5776080                                      & 320                                          & *                                            & Ab1.input\\_peak\\_2245                      & 125                                          & .                                            &  5.73264                                     & 15.79484                                     & ⋯                                            & 5765223                                      & 5813549                                      & 48327                                        & 2                                            & 2665                                         & uc001iil.4                                   &  37469                                       & ENSG00000057608                              & GDI2                                         & GDP dissociation inhibitor 2                \\\\\n",
       "\t chr10                                        & 5977538                                      & 5978102                                      & 565                                          & *                                            & Ab1.input\\_peak\\_2251                      &  92                                          & .                                            &  6.88479                                     & 12.31191                                     & ⋯                                            & 5943894                                      & 5977611                                      & 33718                                        & 2                                            & 3601                                         & uc031vvx.1                                   &      0                                       & ENSG00000134470                              & IL15RA                                       & interleukin 15 receptor subunit alpha       \\\\\n",
       "\\end{tabular}\n"
      ],
      "text/plain": [
       "  seqnames start   end     width strand V4                  V5  V6 V7      \n",
       "1 chr10    1489238 1489661 424   *      Ab1.input_peak_2215  51 .   4.06589\n",
       "2 chr10    3172410 3172896 487   *      Ab1.input_peak_2231 109 .   5.36279\n",
       "3 chr10    5665920 5666392 473   *      Ab1.input_peak_2242 324 .  12.79724\n",
       "4 chr10    5684424 5684866 443   *      Ab1.input_peak_2243 593 .  19.03980\n",
       "5 chr10    5775761 5776080 320   *      Ab1.input_peak_2245 125 .   5.73264\n",
       "6 chr10    5977538 5978102 565   *      Ab1.input_peak_2251  92 .   6.88479\n",
       "  V8       ⋯ geneStart geneEnd geneLength geneStrand geneId transcriptId\n",
       "1  7.85770 ⋯ 1526630   1556984 30355      1          642394 uc001ign.3  \n",
       "2 14.11020 ⋯ 3136924   3172841 35918      2          10531  uc001igr.2  \n",
       "3 36.38798 ⋯ 5638857   5666595 27739      2          79754  uc001iig.2  \n",
       "4 63.71320 ⋯ 5684838   5763740 78903      1          54906  uc001iij.3  \n",
       "5 15.79484 ⋯ 5765223   5813549 48327      2          2665   uc001iil.4  \n",
       "6 12.31191 ⋯ 5943894   5977611 33718      2          3601   uc031vvx.1  \n",
       "  distanceToTSS ENSEMBL         SYMBOL    \n",
       "1 -36969        ENSG00000205696 ADARB2-AS1\n",
       "2      0        ENSG00000107959 PITRM1    \n",
       "3    203        ENSG00000196372 ASB13     \n",
       "4      0        ENSG00000108021 FAM208B   \n",
       "5  37469        ENSG00000057608 GDI2      \n",
       "6      0        ENSG00000134470 IL15RA    \n",
       "  GENENAME                                    \n",
       "1 ADARB2 antisense RNA 1                      \n",
       "2 pitrilysin metallopeptidase 1               \n",
       "3 ankyrin repeat and SOCS box containing 13   \n",
       "4 family with sequence similarity 208 member B\n",
       "5 GDP dissociation inhibitor 2                \n",
       "6 interleukin 15 receptor subunit alpha       "
      ]
     },
     "metadata": {},
     "output_type": "display_data"
    }
   ],
   "source": [
    "## Annotate\n",
    "# peakAnno <- annotatePeak(chip.peaks, TxDb=txdb, \n",
    "#                          tssRegion=c(-3000,3000),\n",
    "#                          annoDb=\"org.Hs.eg.db\", verbose=FALSE)\n",
    "\n",
    "# We will simply load the pre-existing Robject\n",
    "load(file.path(idir, \"peaks\", \"Rdata\", \"Ab1_RNAPII.overlapped.annotated.Rdata\"))\n",
    "\n",
    "# Peek at first few rows\n",
    "head(as.data.frame(peakAnno))"
   ]
  },
  {
   "cell_type": "markdown",
   "metadata": {},
   "source": [
    "Now, we will subset to peaks within a particular distance from the TSS using the `distanceToTSS` column.\n",
    "I have chosen an arbitrary distance of 30,000 bp; however, this value will depend on the known biology of your \n",
    "factor or your own stringency. I can subset the data.frame using the built-in `subset()` function:"
   ]
  },
  {
   "cell_type": "code",
   "execution_count": 3,
   "metadata": {
    "collapsed": false
   },
   "outputs": [
    {
     "name": "stdout",
     "output_type": "stream",
     "text": [
      "[1] \"The number of unique genes:\"\n"
     ]
    },
    {
     "data": {
      "text/html": [
       "4565"
      ],
      "text/latex": [
       "4565"
      ],
      "text/markdown": [
       "4565"
      ],
      "text/plain": [
       "[1] 4565"
      ]
     },
     "metadata": {},
     "output_type": "display_data"
    }
   ],
   "source": [
    "## Subset peaks by the absolute value of distanceToTSS\n",
    "## We arbitrarily chose 30,000 bp as the cutoff. We also\n",
    "## need to remove peaks where there is no known official gene symbol.\n",
    "## We can do this using the is.na() function\n",
    "peakAnno.30kb <- subset(as.data.frame(peakAnno), abs(distanceToTSS) < 30000 & !is.na(SYMBOL))\n",
    "\n",
    "## Next, let's create a vector of unique gene symbols\n",
    "genes.chip <- unique(peakAnno.30kb$SYMBOL)\n",
    "print(\"The number of unique genes:\")\n",
    "length(genes.chip)"
   ]
  },
  {
   "cell_type": "markdown",
   "metadata": {},
   "source": [
    "Now that we have our ChIP-Seq genes, we need to load in the RNA-Seq data."
   ]
  },
  {
   "cell_type": "code",
   "execution_count": 4,
   "metadata": {
    "collapsed": false
   },
   "outputs": [
    {
     "data": {
      "text/html": [
       "<table>\n",
       "<thead><tr><th scope=col>ENSEMBL</th><th scope=col>SYMBOL</th><th scope=col>baseMean</th><th scope=col>log2FoldChange</th><th scope=col>lfcSE</th><th scope=col>stat</th><th scope=col>pvalue</th><th scope=col>padj</th><th scope=col>foldChange</th></tr></thead>\n",
       "<tbody>\n",
       "\t<tr><td>ENSG00000006282.20</td><td>SPATA20           </td><td>339.18678         </td><td>-0.6136447        </td><td>0.11428784        </td><td> -5.369291        </td><td>7.904659e-08      </td><td>4.426258e-06      </td><td>-1.530120         </td></tr>\n",
       "\t<tr><td>ENSG00000007944.14</td><td>MYLIP             </td><td>498.97981         </td><td>-0.8256700        </td><td>0.10832360        </td><td> -7.622254        </td><td>2.492846e-14      </td><td>6.409666e-12      </td><td>-1.772358         </td></tr>\n",
       "\t<tr><td>ENSG00000019549.8 </td><td>SNAI2             </td><td>143.41913         </td><td> 0.6023509        </td><td>0.15267109        </td><td>  3.945416        </td><td>7.966161e-05      </td><td>1.475966e-03      </td><td> 1.518188         </td></tr>\n",
       "\t<tr><td>ENSG00000026025.13</td><td>VIM               </td><td>101.16900         </td><td>-0.7806354        </td><td>0.16508484        </td><td> -4.728692        </td><td>2.259707e-06      </td><td>7.864655e-05      </td><td>-1.717887         </td></tr>\n",
       "\t<tr><td>ENSG00000035403.16</td><td>VCL               </td><td>853.07441         </td><td>-1.0732866        </td><td>0.09343159        </td><td>-11.487407        </td><td>1.526253e-30      </td><td>2.403657e-27      </td><td>-2.104222         </td></tr>\n",
       "\t<tr><td>ENSG00000036828.13</td><td>CASR              </td><td> 43.93388         </td><td> 0.6640367        </td><td>0.18040775        </td><td>  3.680755        </td><td>2.325442e-04      </td><td>3.551303e-03      </td><td> 1.584510         </td></tr>\n",
       "</tbody>\n",
       "</table>\n"
      ],
      "text/latex": [
       "\\begin{tabular}{r|lllllllll}\n",
       " ENSEMBL & SYMBOL & baseMean & log2FoldChange & lfcSE & stat & pvalue & padj & foldChange\\\\\n",
       "\\hline\n",
       "\t ENSG00000006282.20 & SPATA20            & 339.18678          & -0.6136447         & 0.11428784         &  -5.369291         & 7.904659e-08       & 4.426258e-06       & -1.530120         \\\\\n",
       "\t ENSG00000007944.14 & MYLIP              & 498.97981          & -0.8256700         & 0.10832360         &  -7.622254         & 2.492846e-14       & 6.409666e-12       & -1.772358         \\\\\n",
       "\t ENSG00000019549.8  & SNAI2              & 143.41913          &  0.6023509         & 0.15267109         &   3.945416         & 7.966161e-05       & 1.475966e-03       &  1.518188         \\\\\n",
       "\t ENSG00000026025.13 & VIM                & 101.16900          & -0.7806354         & 0.16508484         &  -4.728692         & 2.259707e-06       & 7.864655e-05       & -1.717887         \\\\\n",
       "\t ENSG00000035403.16 & VCL                & 853.07441          & -1.0732866         & 0.09343159         & -11.487407         & 1.526253e-30       & 2.403657e-27       & -2.104222         \\\\\n",
       "\t ENSG00000036828.13 & CASR               &  43.93388          &  0.6640367         & 0.18040775         &   3.680755         & 2.325442e-04       & 3.551303e-03       &  1.584510         \\\\\n",
       "\\end{tabular}\n"
      ],
      "text/plain": [
       "  ENSEMBL            SYMBOL  baseMean  log2FoldChange lfcSE      stat      \n",
       "1 ENSG00000006282.20 SPATA20 339.18678 -0.6136447     0.11428784  -5.369291\n",
       "2 ENSG00000007944.14 MYLIP   498.97981 -0.8256700     0.10832360  -7.622254\n",
       "3 ENSG00000019549.8  SNAI2   143.41913  0.6023509     0.15267109   3.945416\n",
       "4 ENSG00000026025.13 VIM     101.16900 -0.7806354     0.16508484  -4.728692\n",
       "5 ENSG00000035403.16 VCL     853.07441 -1.0732866     0.09343159 -11.487407\n",
       "6 ENSG00000036828.13 CASR     43.93388  0.6640367     0.18040775   3.680755\n",
       "  pvalue       padj         foldChange\n",
       "1 7.904659e-08 4.426258e-06 -1.530120 \n",
       "2 2.492846e-14 6.409666e-12 -1.772358 \n",
       "3 7.966161e-05 1.475966e-03  1.518188 \n",
       "4 2.259707e-06 7.864655e-05 -1.717887 \n",
       "5 1.526253e-30 2.403657e-27 -2.104222 \n",
       "6 2.325442e-04 3.551303e-03  1.584510 "
      ]
     },
     "metadata": {},
     "output_type": "display_data"
    }
   ],
   "source": [
    "## Load in the RNA-Seq data you output earlier\n",
    "rnaseq.dat <- read.delim(file.path(idir, \"rnaseq\", \"DLBC.coding.KOvsWT.deseq2.txt.flt.fdr0.05_fc1.5\"),\n",
    "                        header=TRUE, stringsAsFactors=FALSE)\n",
    "\n",
    "## Peek at data\n",
    "head(rnaseq.dat)"
   ]
  },
  {
   "cell_type": "markdown",
   "metadata": {},
   "source": [
    "Next, we will subset our RNA-Seq data to the genes found in the ChIP-Seq dataset using the `subset()` command again:"
   ]
  },
  {
   "cell_type": "code",
   "execution_count": 5,
   "metadata": {
    "collapsed": false
   },
   "outputs": [
    {
     "name": "stdout",
     "output_type": "stream",
     "text": [
      "[1] \"There are this many overlapping genes:\"\n"
     ]
    },
    {
     "data": {
      "text/html": [
       "58"
      ],
      "text/latex": [
       "58"
      ],
      "text/markdown": [
       "58"
      ],
      "text/plain": [
       "[1] 58"
      ]
     },
     "metadata": {},
     "output_type": "display_data"
    },
    {
     "name": "stdout",
     "output_type": "stream",
     "text": [
      "[1] \"These are the overlapping genes:\"\n"
     ]
    },
    {
     "data": {
      "text/html": [
       "<ol class=list-inline>\n",
       "\t<li>'MYLIP'</li>\n",
       "\t<li>'SNAI2'</li>\n",
       "\t<li>'SREBF1'</li>\n",
       "\t<li>'LRRC16A'</li>\n",
       "\t<li>'DDX43'</li>\n",
       "\t<li>'STRADB'</li>\n",
       "\t<li>'FAM234B'</li>\n",
       "\t<li>'CYP26A1'</li>\n",
       "\t<li>'CTSH'</li>\n",
       "\t<li>'LIPA'</li>\n",
       "\t<li>'ALDOC'</li>\n",
       "\t<li>'LPCAT3'</li>\n",
       "\t<li>'PFKFB4'</li>\n",
       "\t<li>'HES1'</li>\n",
       "\t<li>'CD274'</li>\n",
       "\t<li>'ACAT2'</li>\n",
       "\t<li>'HIST1H2BJ'</li>\n",
       "\t<li>'RUNX2'</li>\n",
       "\t<li>'FAM78A'</li>\n",
       "\t<li>'VAV3'</li>\n",
       "\t<li>'RAB33A'</li>\n",
       "\t<li>'FADS2'</li>\n",
       "\t<li>'TNS3'</li>\n",
       "\t<li>'IGF2BP3'</li>\n",
       "\t<li>'CCNG2'</li>\n",
       "\t<li>'LEF1'</li>\n",
       "\t<li>'AK7'</li>\n",
       "\t<li>'ZNF687'</li>\n",
       "\t<li>'TMEM123'</li>\n",
       "\t<li>'CABP1'</li>\n",
       "\t<li>'HIST1H4H'</li>\n",
       "\t<li>'RUNX1'</li>\n",
       "\t<li>'SPON2'</li>\n",
       "\t<li>'SLC2A6'</li>\n",
       "\t<li>'RPRD2'</li>\n",
       "\t<li>'RBM47'</li>\n",
       "\t<li>'KIAA0895'</li>\n",
       "\t<li>'SNAPC3'</li>\n",
       "\t<li>'STK32C'</li>\n",
       "\t<li>'GYLTL1B'</li>\n",
       "\t<li>'TUBA1A'</li>\n",
       "\t<li>'SHOX2'</li>\n",
       "\t<li>'FOS'</li>\n",
       "\t<li>'ZNF804A'</li>\n",
       "\t<li>'ESRRA'</li>\n",
       "\t<li>'ORAI3'</li>\n",
       "\t<li>'EGR3'</li>\n",
       "\t<li>'SERTAD2'</li>\n",
       "\t<li>'POLR2A'</li>\n",
       "\t<li>'WRB'</li>\n",
       "\t<li>'NANOS1'</li>\n",
       "\t<li>'HIST1H3J'</li>\n",
       "\t<li>'HIST2H2BF'</li>\n",
       "\t<li>'CTSO'</li>\n",
       "\t<li>'HIST1H3B'</li>\n",
       "\t<li>'HIST1H4E'</li>\n",
       "\t<li>'HIST1H2BF'</li>\n",
       "\t<li>'HIST1H3H'</li>\n",
       "</ol>\n"
      ],
      "text/latex": [
       "\\begin{enumerate*}\n",
       "\\item 'MYLIP'\n",
       "\\item 'SNAI2'\n",
       "\\item 'SREBF1'\n",
       "\\item 'LRRC16A'\n",
       "\\item 'DDX43'\n",
       "\\item 'STRADB'\n",
       "\\item 'FAM234B'\n",
       "\\item 'CYP26A1'\n",
       "\\item 'CTSH'\n",
       "\\item 'LIPA'\n",
       "\\item 'ALDOC'\n",
       "\\item 'LPCAT3'\n",
       "\\item 'PFKFB4'\n",
       "\\item 'HES1'\n",
       "\\item 'CD274'\n",
       "\\item 'ACAT2'\n",
       "\\item 'HIST1H2BJ'\n",
       "\\item 'RUNX2'\n",
       "\\item 'FAM78A'\n",
       "\\item 'VAV3'\n",
       "\\item 'RAB33A'\n",
       "\\item 'FADS2'\n",
       "\\item 'TNS3'\n",
       "\\item 'IGF2BP3'\n",
       "\\item 'CCNG2'\n",
       "\\item 'LEF1'\n",
       "\\item 'AK7'\n",
       "\\item 'ZNF687'\n",
       "\\item 'TMEM123'\n",
       "\\item 'CABP1'\n",
       "\\item 'HIST1H4H'\n",
       "\\item 'RUNX1'\n",
       "\\item 'SPON2'\n",
       "\\item 'SLC2A6'\n",
       "\\item 'RPRD2'\n",
       "\\item 'RBM47'\n",
       "\\item 'KIAA0895'\n",
       "\\item 'SNAPC3'\n",
       "\\item 'STK32C'\n",
       "\\item 'GYLTL1B'\n",
       "\\item 'TUBA1A'\n",
       "\\item 'SHOX2'\n",
       "\\item 'FOS'\n",
       "\\item 'ZNF804A'\n",
       "\\item 'ESRRA'\n",
       "\\item 'ORAI3'\n",
       "\\item 'EGR3'\n",
       "\\item 'SERTAD2'\n",
       "\\item 'POLR2A'\n",
       "\\item 'WRB'\n",
       "\\item 'NANOS1'\n",
       "\\item 'HIST1H3J'\n",
       "\\item 'HIST2H2BF'\n",
       "\\item 'CTSO'\n",
       "\\item 'HIST1H3B'\n",
       "\\item 'HIST1H4E'\n",
       "\\item 'HIST1H2BF'\n",
       "\\item 'HIST1H3H'\n",
       "\\end{enumerate*}\n"
      ],
      "text/markdown": [
       "1. 'MYLIP'\n",
       "2. 'SNAI2'\n",
       "3. 'SREBF1'\n",
       "4. 'LRRC16A'\n",
       "5. 'DDX43'\n",
       "6. 'STRADB'\n",
       "7. 'FAM234B'\n",
       "8. 'CYP26A1'\n",
       "9. 'CTSH'\n",
       "10. 'LIPA'\n",
       "11. 'ALDOC'\n",
       "12. 'LPCAT3'\n",
       "13. 'PFKFB4'\n",
       "14. 'HES1'\n",
       "15. 'CD274'\n",
       "16. 'ACAT2'\n",
       "17. 'HIST1H2BJ'\n",
       "18. 'RUNX2'\n",
       "19. 'FAM78A'\n",
       "20. 'VAV3'\n",
       "21. 'RAB33A'\n",
       "22. 'FADS2'\n",
       "23. 'TNS3'\n",
       "24. 'IGF2BP3'\n",
       "25. 'CCNG2'\n",
       "26. 'LEF1'\n",
       "27. 'AK7'\n",
       "28. 'ZNF687'\n",
       "29. 'TMEM123'\n",
       "30. 'CABP1'\n",
       "31. 'HIST1H4H'\n",
       "32. 'RUNX1'\n",
       "33. 'SPON2'\n",
       "34. 'SLC2A6'\n",
       "35. 'RPRD2'\n",
       "36. 'RBM47'\n",
       "37. 'KIAA0895'\n",
       "38. 'SNAPC3'\n",
       "39. 'STK32C'\n",
       "40. 'GYLTL1B'\n",
       "41. 'TUBA1A'\n",
       "42. 'SHOX2'\n",
       "43. 'FOS'\n",
       "44. 'ZNF804A'\n",
       "45. 'ESRRA'\n",
       "46. 'ORAI3'\n",
       "47. 'EGR3'\n",
       "48. 'SERTAD2'\n",
       "49. 'POLR2A'\n",
       "50. 'WRB'\n",
       "51. 'NANOS1'\n",
       "52. 'HIST1H3J'\n",
       "53. 'HIST2H2BF'\n",
       "54. 'CTSO'\n",
       "55. 'HIST1H3B'\n",
       "56. 'HIST1H4E'\n",
       "57. 'HIST1H2BF'\n",
       "58. 'HIST1H3H'\n",
       "\n",
       "\n"
      ],
      "text/plain": [
       " [1] \"MYLIP\"     \"SNAI2\"     \"SREBF1\"    \"LRRC16A\"   \"DDX43\"     \"STRADB\"   \n",
       " [7] \"FAM234B\"   \"CYP26A1\"   \"CTSH\"      \"LIPA\"      \"ALDOC\"     \"LPCAT3\"   \n",
       "[13] \"PFKFB4\"    \"HES1\"      \"CD274\"     \"ACAT2\"     \"HIST1H2BJ\" \"RUNX2\"    \n",
       "[19] \"FAM78A\"    \"VAV3\"      \"RAB33A\"    \"FADS2\"     \"TNS3\"      \"IGF2BP3\"  \n",
       "[25] \"CCNG2\"     \"LEF1\"      \"AK7\"       \"ZNF687\"    \"TMEM123\"   \"CABP1\"    \n",
       "[31] \"HIST1H4H\"  \"RUNX1\"     \"SPON2\"     \"SLC2A6\"    \"RPRD2\"     \"RBM47\"    \n",
       "[37] \"KIAA0895\"  \"SNAPC3\"    \"STK32C\"    \"GYLTL1B\"   \"TUBA1A\"    \"SHOX2\"    \n",
       "[43] \"FOS\"       \"ZNF804A\"   \"ESRRA\"     \"ORAI3\"     \"EGR3\"      \"SERTAD2\"  \n",
       "[49] \"POLR2A\"    \"WRB\"       \"NANOS1\"    \"HIST1H3J\"  \"HIST2H2BF\" \"CTSO\"     \n",
       "[55] \"HIST1H3B\"  \"HIST1H4E\"  \"HIST1H2BF\" \"HIST1H3H\" "
      ]
     },
     "metadata": {},
     "output_type": "display_data"
    }
   ],
   "source": [
    "## Select rows from RNA-Seq data that contain genes in the\n",
    "## ChIP-Seq dataset\n",
    "shared.dat <- subset(rnaseq.dat, SYMBOL %in% genes.chip)\n",
    "\n",
    "print(\"There are this many overlapping genes:\")\n",
    "dim(shared.dat)[1]\n",
    "\n",
    "print(\"These are the overlapping genes:\")\n",
    "shared.dat$SYMBOL"
   ]
  },
  {
   "cell_type": "markdown",
   "metadata": {},
   "source": [
    "Now we have the expression data from differentially expressed genes that also had peaks within 30kb\n",
    "from the TSS site. What you do next depends on your focal question, but things like enrichment analyses are\n",
    "common."
   ]
  },
  {
   "cell_type": "code",
   "execution_count": 6,
   "metadata": {
    "collapsed": false
   },
   "outputs": [
    {
     "name": "stderr",
     "output_type": "stream",
     "text": [
      "Loading required package: org.Hs.eg.db\n",
      "\n",
      "'select()' returned 1:1 mapping between keys and columns\n"
     ]
    },
    {
     "data": {},
     "metadata": {},
     "output_type": "display_data"
    },
    {
     "data": {
      "image/png": "[encoded data removed]",
      "text/plain": [
       "plot without title"
      ]
     },
     "metadata": {},
     "output_type": "display_data"
    }
   ],
   "source": [
    "## An example of running KEGG pathway enrichment on the ovelapping genes\n",
    "suppressMessages(library(clusterProfiler))\n",
    "\n",
    "## Use the built-in bitr function to get the ENTREZIDs from the symbols\n",
    "entrez.shared <- bitr(shared.dat$SYMBOL, fromType=\"SYMBOL\", toType=\"ENTREZID\", OrgDb=\"org.Hs.eg.db\")\n",
    "\n",
    "## Run KEGG enrichment\n",
    "kegg.res <- enrichKEGG(gene=entrez.shared$ENTREZID,\n",
    "                  org = 'hsa',\n",
    "                  pAdjustMethod=\"BH\",\n",
    "                  qvalueCutoff=0.05)\n",
    "dotplot(kegg.res, font.size=8)"
   ]
  },
  {
   "cell_type": "markdown",
   "metadata": {},
   "source": [
    "### Viewing overlapping genes in IGV\n",
    "\n",
    "Here is a snapshot of the [FOS](http://www.genecards.org/cgi-bin/carddisp.pl?gene=FOS) gene using the bigwig files for the ChIP-Seq and RNA-Seq samples in the [Integrative Genomics Viewer](http://software.broadinstitute.org/software/igv/). The first track contains the Ab1 peaks and the second track contains the RNAPII peaks. The next two tracks are the normalized bigwig Ab1 (dark blue) and RNAPII (light blue) ChIP-Seq files followed by the two control files (gray). The last six tracks show the RNA-Seq data from the knock-out samples (red) and the wild-type samples (green). Here we can clearly see that there is a \"peak\" in the ChIP-Seq data right around the TSS of the gene and there are relatively more reads aligned for the knock-out sample compared to the wild-type.\n",
    "\n",
    "<img src=\"assets/f09_FOS_integration_IGV.png\" alt=\"Figure 09\" style=\"float: center;\"/>\n",
    "\n",
    "### More advanced integration\n",
    "\n",
    "If you would like to perform a more advanced integration, I suggest you look into the [BETA](http://cistrome.org/BETA/) software from Cistrome.\n",
    "\n",
    "> Wang, S., Sun, H., Ma, J., Zang, C., Wang, C., Wang, J., ... & Liu, X. S. (2013). Target analysis by integration of transcriptome and ChIP-seq data with BETA. Nature protocols, 8(12), 2502-2515. \n",
    "\n",
    "They provide both stand-alone and Galaxy-based access to BETA. Here is a brief description of BETA:\n",
    "\n",
    "> Binding and Expression Target Analysis (BETA) is a software package that integrates ChIP-seq of transcription factors or chromatin regulators with differential gene expression data to infer direct target genes. BETA has three functions: (1) to predict whether the factor has activating or repressive function; (2) to infer the factor’s target genes; and (3) to identify the motif of the factor and its collaborators which might modulate the factor’s activating or repressive function. Here we describe the implementation and features of BETA to demonstrate its application to several datasets. BETA requires ~2GB RAM and 1h for the whole procedure.\n",
    "\n",
    "# Other useful tools\n",
    "\n",
    "* If you have replicates and multiple conditions for your ChIP-Seq data, the R/Bioconductor package [DiffBind](https://bioconductor.org/packages/release/bioc/html/DiffBind.html) provides several statistical methods for examining differential binding\n",
    "* [Homer](http://homer.salk.edu/homer/) is a popular suite of ChIP-Seq tools\n",
    "* The [Regulatory Genomics Toolbox](http://www.regulatory-genomics.org/) provides several python tools for ChIP-Seq analyses\n",
    "* [OmicTools](https://omictools.com/chip-seq-category) has a nice aggregation of various ChIP-Seq tools and databases"
   ]
  },
  {
   "cell_type": "code",
   "execution_count": null,
   "metadata": {
    "collapsed": true
   },
   "outputs": [],
   "source": []
  }
 ],
 "metadata": {
  "kernelspec": {
   "display_name": "R",
   "language": "R",
   "name": "ir"
  },
  "language_info": {
   "codemirror_mode": "r",
   "file_extension": ".r",
   "mimetype": "text/x-r-source",
   "name": "R",
   "pygments_lexer": "r",
   "version": "3.3.1"
  }
 },
 "nbformat": 4,
 "nbformat_minor": 0
}
