{
 "cells": [
  {
   "cell_type": "markdown",
   "metadata": {},
   "source": [
    "# Introduction to ChIP-seq\n",
    "\n",
    "Kyle Hernandez, Ph.D. [khernandez@bsd.uchicago.edu](mailto:khernandez@bsd.uchicago.edu)\n",
    "\n",
    "License: LGPLv3\n",
    "\n",
    "**2016 AMIA Pre-conference symposium**\n",
    "\n",
    "This document briefly covers the basics of what ChIP-Seq is and the types of questions it can answer. It is\n",
    "by no means exhaustive. I provide some links and citations for you to read through on your own time if you are \n",
    "interested in more in-depth knowledge."
   ]
  },
  {
   "cell_type": "markdown",
   "metadata": {},
   "source": [
    "## What is ChIP-seq?\n",
    "\n",
    "<img src=\"assets/f01_chipseq_overview.jpg\" alt=\"Figure 01\" style=\"width: 300px; float: right;\"/>\n",
    "\n",
    "* **Ch**romatin **I**mmuno**P**recipitation followed by **seq**uencing\n",
    "* Sequencing of the genomic DNA fragments that co-precipitate with the protein of interest using high-throughput sequencing technologies\n",
    "* Detect epigenetic changes\n",
    "    * A \"discovery\" tool\n",
    "    * Unbiased (theoretically)\n",
    "    * Genome-wide\n",
    "\n",
    "### Various types of ChIP-seq\n",
    "\n",
    "| Protein of interest | Enriched genomic DNA fragments |\n",
    "| ------------------- | ------------------------------ |\n",
    "| Transcription factors | Promoter, enhancer, silencer, insulator, other cis elements |\n",
    "| RNA polymerase | Regions under active transcription |\n",
    "| DNA polymerase | Regions under replication |\n",
    "| Modified histones | Chromatin modification |\n",
    "\n",
    "...and more! We will focus on **transcription factors** in these sessions.\n"
   ]
  },
  {
   "cell_type": "markdown",
   "metadata": {},
   "source": [
    "## What can we learn from ChIP-seq?\n",
    "\n",
    "* Location\n",
    "    * Where does my protein of interest bind?\n",
    "* Quantification\n",
    "    * How strong is the signal?\n",
    "* Annotation\n",
    "    * Which type of sequence motif is enriched/present in the peaks? _(We won't have time to go over motif analysis, but the [MEME suite](http://meme-suite.org/) is a great set of tools)_\n",
    "    * What are the target genes?\n",
    "    * Which network/pathways are my target genes enriched?\n",
    "\n",
    "## What we can't learn from ChIP-seq\n",
    "\n",
    "* Gene expression changes (RNAseq)\n",
    "* DNA sequence changes (WES, WGS, target amplicon sequencing)\n",
    "* DNA methylation changes (MeDIPseq, bisulfite sequencing)\n",
    "* RNA-protein interaction (CLIPseq)"
   ]
  },
  {
   "cell_type": "markdown",
   "metadata": {
    "collapsed": true
   },
   "source": [
    "## Overview of a ChIP-seq Experiment\n",
    "\n",
    "\n",
    "<img src=\"assets/f02_chipseq_experiment.png\" alt=\"Figure 02\" style=\"float: center;\"/>"
   ]
  },
  {
   "cell_type": "markdown",
   "metadata": {},
   "source": [
    "## Experimental Design\n",
    "\n",
    "* Antibody quality is important\n",
    "    * Finding a _sensitive_ and _specific_ antibody to protein of interest is most crucial and challenging\n",
    "    * 20-35% of commercial \"ChIP-grade\" antibodies unusable (modENCODE)\n",
    "    * Check your antibody ahead if possible (e.g., Western blot)\n",
    "    * Antibody list from ENCODE: https://www.encodeproject.org/search/?type=AntibodyLot\n",
    "* You should use control samples to control for background noise\n",
    "    * \"input\" - crosslinking + fragmentation, but no IP genomic DNA; _most commonly used control_\n",
    "    * \"Mock IP\" - DNA obtained with a control antibody that reacts with an irrelevant, non-nuclear antigen (e.g., IgG); crosslinking + fragmentation + IP with IgG antibody; the amount is limited, leading to inconsistent results\n",
    "* You should use biological replicates\n",
    "    * Recommend at least 2 biological replicates\n",
    "    * Used to establish biological variability\n",
    "    * Reduces false positives (more power)\n",
    "* The million dollar question: How many reads do I need?\n",
    "    * Transcription factors (sharp peaks)\n",
    "        * 20+ million reads per sample\n",
    "        * 40+ million per condition with 2 replicates\n",
    "        * 150 milion reads per Illumina HiSeq lane\n",
    "            * multiplex 4 samples (2 IP + 2 INPUT / lane)\n",
    "    * Histone modification / Nucleosome positioning (broad peaks)\n",
    "        * 40+ million per sample\n",
    "        * 400 million or more may be needed!\n",
    "    * It is important to _try_ and keep similar sequencing depths between different IP experiments (e.g., treatments), and between IP and INPUT (or fewer in INPUT)"
   ]
  },
  {
   "cell_type": "markdown",
   "metadata": {
    "collapsed": true
   },
   "source": [
    "## A must read for ChIP-Seq projects\n",
    "\n",
    "> Landt et al., 2012. Genome Research 22:1813-1831\n",
    "\n",
    "<img src=\"assets/f03_chipseq_encode_paper.png\" alt=\"Figure 03\" style=\"float: center;\"/>"
   ]
  },
  {
   "cell_type": "code",
   "execution_count": null,
   "metadata": {
    "collapsed": true
   },
   "outputs": [],
   "source": []
  }
 ],
 "metadata": {
  "kernelspec": {
   "display_name": "Python [default]",
   "language": "python",
   "name": "python2"
  },
  "language_info": {
   "codemirror_mode": {
    "name": "ipython",
    "version": 2
   },
   "file_extension": ".py",
   "mimetype": "text/x-python",
   "name": "python",
   "nbconvert_exporter": "python",
   "pygments_lexer": "ipython2",
   "version": "2.7.12"
  }
 },
 "nbformat": 4,
 "nbformat_minor": 0
}
